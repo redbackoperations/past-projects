{
 "cells": [
  {
   "cell_type": "markdown",
   "id": "08c6d60b",
   "metadata": {},
   "source": [
    "### Data cleaning"
   ]
  },
  {
   "cell_type": "code",
   "execution_count": 2,
   "id": "5f4eb795",
   "metadata": {},
   "outputs": [],
   "source": [
    "import numpy as np\n",
    "import pandas as pd\n",
    "import matplotlib.pyplot as plt\n",
    "import seaborn as sns"
   ]
  },
  {
   "cell_type": "code",
   "execution_count": 52,
   "id": "c79d16a1",
   "metadata": {},
   "outputs": [
    {
     "name": "stdout",
     "output_type": "stream",
     "text": [
      "<class 'pandas.core.frame.DataFrame'>\n",
      "RangeIndex: 610 entries, 0 to 609\n",
      "Data columns (total 11 columns):\n",
      " #   Column                          Non-Null Count  Dtype  \n",
      "---  ------                          --------------  -----  \n",
      " 0   Brand Name                      610 non-null    object \n",
      " 1   Device Type                     610 non-null    object \n",
      " 2   Model Name                      610 non-null    object \n",
      " 3   Color                           610 non-null    object \n",
      " 4   Selling Price                   610 non-null    object \n",
      " 5   Original Price                  610 non-null    object \n",
      " 6   Display                         610 non-null    object \n",
      " 7   Rating (Out of 5)               554 non-null    float64\n",
      " 8   Strap Material                  610 non-null    object \n",
      " 9   Average Battery Life (in days)  610 non-null    int64  \n",
      " 10  Reviews                         114 non-null    object \n",
      "dtypes: float64(1), int64(1), object(9)\n",
      "memory usage: 52.5+ KB\n"
     ]
    }
   ],
   "source": [
    "df = pd.read_csv('Fitness_trackers_updated.csv')\n",
    "df.info()"
   ]
  },
  {
   "cell_type": "code",
   "execution_count": 53,
   "id": "2b49f682",
   "metadata": {},
   "outputs": [],
   "source": [
    "df.drop(['Reviews'], axis = 1, inplace = True)"
   ]
  },
  {
   "cell_type": "code",
   "execution_count": 54,
   "id": "393a6899",
   "metadata": {},
   "outputs": [
    {
     "data": {
      "text/plain": [
       "Brand Name                         object\n",
       "Device Type                        object\n",
       "Model Name                         object\n",
       "Color                              object\n",
       "Selling Price                      object\n",
       "Original Price                     object\n",
       "Display                            object\n",
       "Rating (Out of 5)                 float64\n",
       "Strap Material                     object\n",
       "Average Battery Life (in days)      int64\n",
       "dtype: object"
      ]
     },
     "execution_count": 54,
     "metadata": {},
     "output_type": "execute_result"
    }
   ],
   "source": [
    "df.dtypes"
   ]
  },
  {
   "cell_type": "code",
   "execution_count": 37,
   "id": "d4050d2e",
   "metadata": {},
   "outputs": [
    {
     "data": {
      "text/plain": [
       "(610, 10)"
      ]
     },
     "execution_count": 37,
     "metadata": {},
     "output_type": "execute_result"
    }
   ],
   "source": [
    "df.shape"
   ]
  },
  {
   "cell_type": "code",
   "execution_count": 155,
   "id": "5ef07226",
   "metadata": {},
   "outputs": [
    {
     "data": {
      "text/html": [
       "<div>\n",
       "<style scoped>\n",
       "    .dataframe tbody tr th:only-of-type {\n",
       "        vertical-align: middle;\n",
       "    }\n",
       "\n",
       "    .dataframe tbody tr th {\n",
       "        vertical-align: top;\n",
       "    }\n",
       "\n",
       "    .dataframe thead th {\n",
       "        text-align: right;\n",
       "    }\n",
       "</style>\n",
       "<table border=\"1\" class=\"dataframe\">\n",
       "  <thead>\n",
       "    <tr style=\"text-align: right;\">\n",
       "      <th></th>\n",
       "      <th>Brand Name</th>\n",
       "      <th>Device Type</th>\n",
       "      <th>Model Name</th>\n",
       "      <th>Color</th>\n",
       "      <th>Selling Price</th>\n",
       "      <th>Original Price</th>\n",
       "      <th>Display</th>\n",
       "      <th>Rating (Out of 5)</th>\n",
       "      <th>Strap Material</th>\n",
       "      <th>Average Battery Life (in days)</th>\n",
       "    </tr>\n",
       "  </thead>\n",
       "  <tbody>\n",
       "    <tr>\n",
       "      <th>0</th>\n",
       "      <td>Xiaomi</td>\n",
       "      <td>FitnessBand</td>\n",
       "      <td>Smart Band 5</td>\n",
       "      <td>Black</td>\n",
       "      <td>2,499</td>\n",
       "      <td>2,999</td>\n",
       "      <td>AMOLED Display</td>\n",
       "      <td>4.1</td>\n",
       "      <td>Thermoplastic polyurethane</td>\n",
       "      <td>14</td>\n",
       "    </tr>\n",
       "    <tr>\n",
       "      <th>1</th>\n",
       "      <td>Xiaomi</td>\n",
       "      <td>FitnessBand</td>\n",
       "      <td>Smart Band 4</td>\n",
       "      <td>Black</td>\n",
       "      <td>2,099</td>\n",
       "      <td>2,499</td>\n",
       "      <td>AMOLED Display</td>\n",
       "      <td>4.2</td>\n",
       "      <td>Thermoplastic polyurethane</td>\n",
       "      <td>14</td>\n",
       "    </tr>\n",
       "    <tr>\n",
       "      <th>2</th>\n",
       "      <td>Xiaomi</td>\n",
       "      <td>FitnessBand</td>\n",
       "      <td>HMSH01GE</td>\n",
       "      <td>Black</td>\n",
       "      <td>1,722</td>\n",
       "      <td>2,099</td>\n",
       "      <td>LCD Display</td>\n",
       "      <td>3.5</td>\n",
       "      <td>Leather</td>\n",
       "      <td>14</td>\n",
       "    </tr>\n",
       "    <tr>\n",
       "      <th>3</th>\n",
       "      <td>Xiaomi</td>\n",
       "      <td>FitnessBand</td>\n",
       "      <td>Smart Band 5</td>\n",
       "      <td>Black</td>\n",
       "      <td>2,469</td>\n",
       "      <td>2,999</td>\n",
       "      <td>AMOLED Display</td>\n",
       "      <td>4.1</td>\n",
       "      <td>Thermoplastic polyurethane</td>\n",
       "      <td>14</td>\n",
       "    </tr>\n",
       "    <tr>\n",
       "      <th>4</th>\n",
       "      <td>Xiaomi</td>\n",
       "      <td>FitnessBand</td>\n",
       "      <td>Band 3</td>\n",
       "      <td>Black</td>\n",
       "      <td>1,799</td>\n",
       "      <td>2,199</td>\n",
       "      <td>OLED Display</td>\n",
       "      <td>4.3</td>\n",
       "      <td>Plastic</td>\n",
       "      <td>7</td>\n",
       "    </tr>\n",
       "  </tbody>\n",
       "</table>\n",
       "</div>"
      ],
      "text/plain": [
       "  Brand Name  Device Type    Model Name  Color Selling Price Original Price  \\\n",
       "0     Xiaomi  FitnessBand  Smart Band 5  Black         2,499          2,999   \n",
       "1     Xiaomi  FitnessBand  Smart Band 4  Black         2,099          2,499   \n",
       "2     Xiaomi  FitnessBand      HMSH01GE  Black         1,722          2,099   \n",
       "3     Xiaomi  FitnessBand  Smart Band 5  Black         2,469          2,999   \n",
       "4     Xiaomi  FitnessBand        Band 3  Black         1,799          2,199   \n",
       "\n",
       "          Display  Rating (Out of 5)              Strap Material  \\\n",
       "0  AMOLED Display                4.1  Thermoplastic polyurethane   \n",
       "1  AMOLED Display                4.2  Thermoplastic polyurethane   \n",
       "2     LCD Display                3.5                     Leather   \n",
       "3  AMOLED Display                4.1  Thermoplastic polyurethane   \n",
       "4    OLED Display                4.3                     Plastic   \n",
       "\n",
       "   Average Battery Life (in days)  \n",
       "0                              14  \n",
       "1                              14  \n",
       "2                              14  \n",
       "3                              14  \n",
       "4                               7  "
      ]
     },
     "execution_count": 155,
     "metadata": {},
     "output_type": "execute_result"
    }
   ],
   "source": [
    "df.head()"
   ]
  },
  {
   "cell_type": "code",
   "execution_count": 156,
   "id": "5dcb1acf",
   "metadata": {},
   "outputs": [
    {
     "data": {
      "text/html": [
       "<div>\n",
       "<style scoped>\n",
       "    .dataframe tbody tr th:only-of-type {\n",
       "        vertical-align: middle;\n",
       "    }\n",
       "\n",
       "    .dataframe tbody tr th {\n",
       "        vertical-align: top;\n",
       "    }\n",
       "\n",
       "    .dataframe thead th {\n",
       "        text-align: right;\n",
       "    }\n",
       "</style>\n",
       "<table border=\"1\" class=\"dataframe\">\n",
       "  <thead>\n",
       "    <tr style=\"text-align: right;\">\n",
       "      <th></th>\n",
       "      <th>count</th>\n",
       "      <th>mean</th>\n",
       "      <th>std</th>\n",
       "      <th>min</th>\n",
       "      <th>25%</th>\n",
       "      <th>50%</th>\n",
       "      <th>75%</th>\n",
       "      <th>max</th>\n",
       "    </tr>\n",
       "  </thead>\n",
       "  <tbody>\n",
       "    <tr>\n",
       "      <th>Rating (Out of 5)</th>\n",
       "      <td>554.0</td>\n",
       "      <td>4.195668</td>\n",
       "      <td>0.422576</td>\n",
       "      <td>2.0</td>\n",
       "      <td>4.0</td>\n",
       "      <td>4.2</td>\n",
       "      <td>4.5</td>\n",
       "      <td>5.0</td>\n",
       "    </tr>\n",
       "    <tr>\n",
       "      <th>Average Battery Life (in days)</th>\n",
       "      <td>610.0</td>\n",
       "      <td>8.926230</td>\n",
       "      <td>7.632107</td>\n",
       "      <td>1.0</td>\n",
       "      <td>2.0</td>\n",
       "      <td>7.0</td>\n",
       "      <td>14.0</td>\n",
       "      <td>45.0</td>\n",
       "    </tr>\n",
       "  </tbody>\n",
       "</table>\n",
       "</div>"
      ],
      "text/plain": [
       "                                count      mean       std  min  25%  50%  \\\n",
       "Rating (Out of 5)               554.0  4.195668  0.422576  2.0  4.0  4.2   \n",
       "Average Battery Life (in days)  610.0  8.926230  7.632107  1.0  2.0  7.0   \n",
       "\n",
       "                                 75%   max  \n",
       "Rating (Out of 5)                4.5   5.0  \n",
       "Average Battery Life (in days)  14.0  45.0  "
      ]
     },
     "execution_count": 156,
     "metadata": {},
     "output_type": "execute_result"
    }
   ],
   "source": [
    "df.describe().T"
   ]
  },
  {
   "cell_type": "markdown",
   "id": "8bf89b27",
   "metadata": {},
   "source": [
    "### Fitness trackers' type market share"
   ]
  },
  {
   "cell_type": "code",
   "execution_count": 31,
   "id": "666f3acd",
   "metadata": {},
   "outputs": [
    {
     "data": {
      "image/png": "[encoded data removed]",
      "text/plain": [
       "<Figure size 432x288 with 1 Axes>"
      ]
     },
     "metadata": {},
     "output_type": "display_data"
    }
   ],
   "source": [
    "labels = 'Smart watches', 'Fitness bands'\n",
    "fig1, ax1 = plt.subplots()\n",
    "ax1.pie(sizes, labels=labels)\n",
    "plt.show()"
   ]
  },
  {
   "cell_type": "markdown",
   "id": "59fc741c",
   "metadata": {},
   "source": [
    "### Brand with averaging rate scores"
   ]
  },
  {
   "cell_type": "code",
   "execution_count": 24,
   "id": "3a66a664",
   "metadata": {},
   "outputs": [
    {
     "data": {
      "text/plain": [
       "25"
      ]
     },
     "execution_count": 24,
     "metadata": {},
     "output_type": "execute_result"
    }
   ],
   "source": [
    "df['Brand Name'].nunique()"
   ]
  },
  {
   "cell_type": "code",
   "execution_count": 146,
   "id": "8bb74b71",
   "metadata": {},
   "outputs": [
    {
     "data": {
      "text/plain": [
       "Brand Name\n",
       "APPLE              4.5\n",
       "OnePlus            4.3\n",
       "dizo by realme     4.2\n",
       "FOSSIL             4.2\n",
       "SAMSUNG            4.2\n",
       "Honor              4.2\n",
       "FitBit             4.2\n",
       "Xiaomi             4.2\n",
       "Huawei             4.2\n",
       "huami              4.2\n",
       "realme             4.1\n",
       "GARMIN             4.1\n",
       "Noise              4.1\n",
       "Fastrack           4.0\n",
       "Crossbeats         3.9\n",
       "Oppo               3.9\n",
       "boAt               3.9\n",
       "Infinix            3.8\n",
       "Noise              3.8\n",
       "Fire-Boltt         3.7\n",
       "Zebronics          3.7\n",
       "LCARE              3.6\n",
       "LAVA               3.6\n",
       "GOQii              3.4\n",
       "Ptron              3.2\n",
       "Name: Rating (Out of 5), dtype: float64"
      ]
     },
     "execution_count": 146,
     "metadata": {},
     "output_type": "execute_result"
    }
   ],
   "source": [
    "df_1 = df.groupby('Brand Name')['Rating (Out of 5)'].mean().sort_values(ascending = False)\n",
    "round(df_1, 1)"
   ]
  },
  {
   "cell_type": "code",
   "execution_count": 147,
   "id": "aeb83e4d",
   "metadata": {},
   "outputs": [
    {
     "data": {
      "text/plain": [
       "<AxesSubplot:xlabel='Brand Name'>"
      ]
     },
     "execution_count": 147,
     "metadata": {},
     "output_type": "execute_result"
    },
    {
     "data": {
      "image/png": "[encoded data removed]",
      "text/plain": [
       "<Figure size 720x360 with 1 Axes>"
      ]
     },
     "metadata": {
      "needs_background": "light"
     },
     "output_type": "display_data"
    }
   ],
   "source": [
    "df_1.plot.bar(figsize = (10, 5))"
   ]
  },
  {
   "cell_type": "markdown",
   "id": "271700ee",
   "metadata": {},
   "source": [
    "###  \tDevice Type with average rating scores "
   ]
  },
  {
   "cell_type": "code",
   "execution_count": 148,
   "id": "149d9a6b",
   "metadata": {},
   "outputs": [
    {
     "data": {
      "text/plain": [
       "Device Type\n",
       "FitnessBand    4.1\n",
       "Smartwatch     4.2\n",
       "Name: Rating (Out of 5), dtype: float64"
      ]
     },
     "execution_count": 148,
     "metadata": {},
     "output_type": "execute_result"
    }
   ],
   "source": [
    "df_2 = df.groupby('Device Type')['Rating (Out of 5)'].mean()\n",
    "round(df_2, 1)"
   ]
  },
  {
   "cell_type": "code",
   "execution_count": 61,
   "id": "2af15559",
   "metadata": {},
   "outputs": [
    {
     "data": {
      "text/plain": [
       "<AxesSubplot:xlabel='Device Type'>"
      ]
     },
     "execution_count": 61,
     "metadata": {},
     "output_type": "execute_result"
    },
    {
     "data": {
      "image/png": "[encoded data removed]",
      "text/plain": [
       "<Figure size 720x360 with 1 Axes>"
      ]
     },
     "metadata": {
      "needs_background": "light"
     },
     "output_type": "display_data"
    }
   ],
   "source": [
    "df_2.plot.bar(figsize = (10, 5))"
   ]
  },
  {
   "cell_type": "markdown",
   "id": "1e3d07ce",
   "metadata": {},
   "source": [
    "###  \tDisplay with averaging rating scores"
   ]
  },
  {
   "cell_type": "code",
   "execution_count": 149,
   "id": "7c14ba4b",
   "metadata": {},
   "outputs": [
    {
     "data": {
      "text/plain": [
       "Display\n",
       "OLED Retina Display    5.0\n",
       "PMOLED Display         4.0\n",
       "AMOLED Display         4.0\n",
       "LED Display            4.0\n",
       "OLED Display           4.0\n",
       "HD Display             4.0\n",
       "LCD Display            4.0\n",
       "IPS Display            4.0\n",
       "TFT-LCD Display        4.0\n",
       "Name: Rating (Out of 5), dtype: float64"
      ]
     },
     "execution_count": 149,
     "metadata": {},
     "output_type": "execute_result"
    }
   ],
   "source": [
    "df_3 = df.groupby('Display')['Rating (Out of 5)'].mean().sort_values(ascending = False)\n",
    "round(df_3)"
   ]
  },
  {
   "cell_type": "code",
   "execution_count": 150,
   "id": "c50c3f55",
   "metadata": {},
   "outputs": [
    {
     "data": {
      "text/plain": [
       "<AxesSubplot:xlabel='Display'>"
      ]
     },
     "execution_count": 150,
     "metadata": {},
     "output_type": "execute_result"
    },
    {
     "data": {
      "image/png": "[encoded data removed]",
      "text/plain": [
       "<Figure size 720x360 with 1 Axes>"
      ]
     },
     "metadata": {
      "needs_background": "light"
     },
     "output_type": "display_data"
    }
   ],
   "source": [
    "df_3.plot.bar(figsize = (10, 5))"
   ]
  },
  {
   "cell_type": "markdown",
   "id": "30591327",
   "metadata": {},
   "source": [
    "### Selling Price - Brands"
   ]
  },
  {
   "cell_type": "code",
   "execution_count": 55,
   "id": "8f5e7624",
   "metadata": {},
   "outputs": [],
   "source": [
    "df[\"Selling Price\"] = pd.to_numeric(df[\"Selling Price\"].str.replace(',',''))\n",
    "df[\"Original Price\"] = pd.to_numeric(df[\"Original Price\"].str.replace(',',''))"
   ]
  },
  {
   "cell_type": "code",
   "execution_count": 56,
   "id": "d54ced45",
   "metadata": {},
   "outputs": [
    {
     "data": {
      "text/plain": [
       "Brand Name                         object\n",
       "Device Type                        object\n",
       "Model Name                         object\n",
       "Color                              object\n",
       "Selling Price                       int64\n",
       "Original Price                      int64\n",
       "Display                            object\n",
       "Rating (Out of 5)                 float64\n",
       "Strap Material                     object\n",
       "Average Battery Life (in days)      int64\n",
       "dtype: object"
      ]
     },
     "execution_count": 56,
     "metadata": {},
     "output_type": "execute_result"
    }
   ],
   "source": [
    "df.dtypes"
   ]
  },
  {
   "cell_type": "code",
   "execution_count": 59,
   "id": "fced9b7f",
   "metadata": {},
   "outputs": [
    {
     "name": "stdout",
     "output_type": "stream",
     "text": [
      "122090\n",
      "1599\n",
      "12049.1\n"
     ]
    }
   ],
   "source": [
    "print(max(df['Selling Price']))\n",
    "print(min(df['Original Price']))\n",
    "print((max(df['Selling Price']) - min(df['Original Price']))/10)"
   ]
  },
  {
   "cell_type": "code",
   "execution_count": 60,
   "id": "580e758b",
   "metadata": {},
   "outputs": [],
   "source": [
    "bins = [1500, 2800, 4100, 5400, 6700, 8000, 9300, 10600, 11900, 13200]"
   ]
  },
  {
   "cell_type": "code",
   "execution_count": 61,
   "id": "de7844ab",
   "metadata": {},
   "outputs": [],
   "source": [
    "df['Selling Price Groups'] = pd.cut(df['Selling Price'], bins)"
   ]
  },
  {
   "cell_type": "code",
   "execution_count": 62,
   "id": "d81498bc",
   "metadata": {},
   "outputs": [
    {
     "data": {
      "text/html": [
       "<div>\n",
       "<style scoped>\n",
       "    .dataframe tbody tr th:only-of-type {\n",
       "        vertical-align: middle;\n",
       "    }\n",
       "\n",
       "    .dataframe tbody tr th {\n",
       "        vertical-align: top;\n",
       "    }\n",
       "\n",
       "    .dataframe thead th {\n",
       "        text-align: right;\n",
       "    }\n",
       "</style>\n",
       "<table border=\"1\" class=\"dataframe\">\n",
       "  <thead>\n",
       "    <tr style=\"text-align: right;\">\n",
       "      <th></th>\n",
       "      <th>Brand Name</th>\n",
       "      <th>Device Type</th>\n",
       "      <th>Model Name</th>\n",
       "      <th>Color</th>\n",
       "      <th>Selling Price</th>\n",
       "      <th>Original Price</th>\n",
       "      <th>Display</th>\n",
       "      <th>Rating (Out of 5)</th>\n",
       "      <th>Strap Material</th>\n",
       "      <th>Average Battery Life (in days)</th>\n",
       "      <th>Selling Price Groups</th>\n",
       "    </tr>\n",
       "  </thead>\n",
       "  <tbody>\n",
       "    <tr>\n",
       "      <th>0</th>\n",
       "      <td>Xiaomi</td>\n",
       "      <td>FitnessBand</td>\n",
       "      <td>Smart Band 5</td>\n",
       "      <td>Black</td>\n",
       "      <td>2499</td>\n",
       "      <td>2999</td>\n",
       "      <td>AMOLED Display</td>\n",
       "      <td>4.1</td>\n",
       "      <td>Thermoplastic polyurethane</td>\n",
       "      <td>14</td>\n",
       "      <td>(1500, 2800]</td>\n",
       "    </tr>\n",
       "    <tr>\n",
       "      <th>1</th>\n",
       "      <td>Xiaomi</td>\n",
       "      <td>FitnessBand</td>\n",
       "      <td>Smart Band 4</td>\n",
       "      <td>Black</td>\n",
       "      <td>2099</td>\n",
       "      <td>2499</td>\n",
       "      <td>AMOLED Display</td>\n",
       "      <td>4.2</td>\n",
       "      <td>Thermoplastic polyurethane</td>\n",
       "      <td>14</td>\n",
       "      <td>(1500, 2800]</td>\n",
       "    </tr>\n",
       "    <tr>\n",
       "      <th>2</th>\n",
       "      <td>Xiaomi</td>\n",
       "      <td>FitnessBand</td>\n",
       "      <td>HMSH01GE</td>\n",
       "      <td>Black</td>\n",
       "      <td>1722</td>\n",
       "      <td>2099</td>\n",
       "      <td>LCD Display</td>\n",
       "      <td>3.5</td>\n",
       "      <td>Leather</td>\n",
       "      <td>14</td>\n",
       "      <td>(1500, 2800]</td>\n",
       "    </tr>\n",
       "    <tr>\n",
       "      <th>3</th>\n",
       "      <td>Xiaomi</td>\n",
       "      <td>FitnessBand</td>\n",
       "      <td>Smart Band 5</td>\n",
       "      <td>Black</td>\n",
       "      <td>2469</td>\n",
       "      <td>2999</td>\n",
       "      <td>AMOLED Display</td>\n",
       "      <td>4.1</td>\n",
       "      <td>Thermoplastic polyurethane</td>\n",
       "      <td>14</td>\n",
       "      <td>(1500, 2800]</td>\n",
       "    </tr>\n",
       "    <tr>\n",
       "      <th>4</th>\n",
       "      <td>Xiaomi</td>\n",
       "      <td>FitnessBand</td>\n",
       "      <td>Band 3</td>\n",
       "      <td>Black</td>\n",
       "      <td>1799</td>\n",
       "      <td>2199</td>\n",
       "      <td>OLED Display</td>\n",
       "      <td>4.3</td>\n",
       "      <td>Plastic</td>\n",
       "      <td>7</td>\n",
       "      <td>(1500, 2800]</td>\n",
       "    </tr>\n",
       "  </tbody>\n",
       "</table>\n",
       "</div>"
      ],
      "text/plain": [
       "  Brand Name  Device Type    Model Name  Color  Selling Price  Original Price  \\\n",
       "0     Xiaomi  FitnessBand  Smart Band 5  Black           2499            2999   \n",
       "1     Xiaomi  FitnessBand  Smart Band 4  Black           2099            2499   \n",
       "2     Xiaomi  FitnessBand      HMSH01GE  Black           1722            2099   \n",
       "3     Xiaomi  FitnessBand  Smart Band 5  Black           2469            2999   \n",
       "4     Xiaomi  FitnessBand        Band 3  Black           1799            2199   \n",
       "\n",
       "          Display  Rating (Out of 5)              Strap Material  \\\n",
       "0  AMOLED Display                4.1  Thermoplastic polyurethane   \n",
       "1  AMOLED Display                4.2  Thermoplastic polyurethane   \n",
       "2     LCD Display                3.5                     Leather   \n",
       "3  AMOLED Display                4.1  Thermoplastic polyurethane   \n",
       "4    OLED Display                4.3                     Plastic   \n",
       "\n",
       "   Average Battery Life (in days) Selling Price Groups  \n",
       "0                              14         (1500, 2800]  \n",
       "1                              14         (1500, 2800]  \n",
       "2                              14         (1500, 2800]  \n",
       "3                              14         (1500, 2800]  \n",
       "4                               7         (1500, 2800]  "
      ]
     },
     "execution_count": 62,
     "metadata": {},
     "output_type": "execute_result"
    }
   ],
   "source": [
    "df.head()"
   ]
  },
  {
   "cell_type": "code",
   "execution_count": 68,
   "id": "1d92d4d5",
   "metadata": {},
   "outputs": [
    {
     "data": {
      "image/png": "[encoded data removed]",
      "text/plain": [
       "<Figure size 1584x360 with 1 Axes>"
      ]
     },
     "metadata": {
      "needs_background": "light"
     },
     "output_type": "display_data"
    }
   ],
   "source": [
    "fig, ax = plt.subplots(figsize=(22, 5))\n",
    "median_index = df[[\"Brand Name\", \"Selling Price\"]].groupby(\"Brand Name\").median().sort_values(by=[\"Selling Price\"], ascending = False).index\n",
    "ax = sns.stripplot(x=\"Brand Name\", y=\"Selling Price\", data=df, order = median_index)"
   ]
  },
  {
   "cell_type": "markdown",
   "id": "12d584c5",
   "metadata": {},
   "source": [
    "### Strap Material with rating groups "
   ]
  },
  {
   "cell_type": "code",
   "execution_count": 186,
   "id": "87f45289",
   "metadata": {},
   "outputs": [
    {
     "data": {
      "text/plain": [
       "12"
      ]
     },
     "execution_count": 186,
     "metadata": {},
     "output_type": "execute_result"
    }
   ],
   "source": [
    "df['Strap Material'].nunique()"
   ]
  },
  {
   "cell_type": "code",
   "execution_count": 171,
   "id": "f5c162b7",
   "metadata": {},
   "outputs": [],
   "source": [
    "df_5 = df[['Strap Material', 'Rating groups']]"
   ]
  },
  {
   "cell_type": "code",
   "execution_count": 184,
   "id": "f6eabc3e",
   "metadata": {},
   "outputs": [
    {
     "data": {
      "text/plain": [
       "Rating groups  Strap Material            \n",
       "(4, 5]         Silicone                      145\n",
       "(3, 4]         Silicone                       77\n",
       "(4, 5]         Stainless Steel                74\n",
       "               Aluminium                      57\n",
       "               Leather                        40\n",
       "               Elastomer                      40\n",
       "(3, 4]         Stainless Steel                20\n",
       "(4, 5]         Thermoplastic polyurethane     18\n",
       "(3, 4]         Thermoplastic polyurethane     17\n",
       "               Leather                        14\n",
       "(4, 5]         Plastic                        14\n",
       "(3, 4]         Rubber                          9\n",
       "(2, 3]         Silicone                        8\n",
       "(4, 5]         Nylon                           5\n",
       "(3, 4]         Elastomer                       5\n",
       "(4, 5]         Rubber                          3\n",
       "(2, 3]         Stainless Steel                 2\n",
       "(3, 4]         Plastic                         2\n",
       "               Nylon                           1\n",
       "(1, 2]         Silicone                        1\n",
       "(4, 5]         Fabric                          1\n",
       "(2, 3]         leather                         1\n",
       "(3, 4]         leather                         0\n",
       "               Aluminium                       0\n",
       "(2, 3]         Thermoplastic polyurethane      0\n",
       "(3, 4]         Leather                         0\n",
       "               Fabric                          0\n",
       "(4, 5]         Leather                         0\n",
       "(2, 3]         Rubber                          0\n",
       "(0, 1]         Aluminium                       0\n",
       "(2, 3]         Plastic                         0\n",
       "(0, 1]         Elastomer                       0\n",
       "(1, 2]         Fabric                          0\n",
       "(0, 1]         Fabric                          0\n",
       "               Leather                         0\n",
       "               Leather                         0\n",
       "               Nylon                           0\n",
       "               Plastic                         0\n",
       "               Rubber                          0\n",
       "               Silicone                        0\n",
       "               Stainless Steel                 0\n",
       "               Thermoplastic polyurethane      0\n",
       "               leather                         0\n",
       "(1, 2]         Aluminium                       0\n",
       "               Elastomer                       0\n",
       "               Leather                         0\n",
       "(2, 3]         Nylon                           0\n",
       "(1, 2]         Leather                         0\n",
       "               Nylon                           0\n",
       "               Plastic                         0\n",
       "               Rubber                          0\n",
       "               Stainless Steel                 0\n",
       "               Thermoplastic polyurethane      0\n",
       "               leather                         0\n",
       "(2, 3]         Aluminium                       0\n",
       "               Elastomer                       0\n",
       "               Fabric                          0\n",
       "               Leather                         0\n",
       "               Leather                         0\n",
       "(4, 5]         leather                         0\n",
       "Name: Strap Material, dtype: int64"
      ]
     },
     "execution_count": 184,
     "metadata": {},
     "output_type": "execute_result"
    }
   ],
   "source": [
    "df_5 = df.groupby(['Rating groups', 'Strap Material'])['Strap Material'].count().sort_values(ascending = False)\n",
    "round(df_5)"
   ]
  },
  {
   "cell_type": "code",
   "execution_count": 181,
   "id": "7c163e2b",
   "metadata": {},
   "outputs": [
    {
     "data": {
      "text/plain": [
       "<AxesSubplot:xlabel='Rating groups,Strap Material'>"
      ]
     },
     "execution_count": 181,
     "metadata": {},
     "output_type": "execute_result"
    },
    {
     "data": {
      "image/png": "[encoded data removed]",
      "text/plain": [
       "<Figure size 720x360 with 1 Axes>"
      ]
     },
     "metadata": {
      "needs_background": "light"
     },
     "output_type": "display_data"
    }
   ],
   "source": [
    "df_5.plot.bar(figsize = (10, 5))"
   ]
  },
  {
   "cell_type": "code",
   "execution_count": null,
   "id": "795a78c1",
   "metadata": {},
   "outputs": [],
   "source": []
  },
  {
   "cell_type": "code",
   "execution_count": null,
   "id": "0efcc6f9",
   "metadata": {},
   "outputs": [],
   "source": []
  },
  {
   "cell_type": "code",
   "execution_count": null,
   "id": "5196a30a",
   "metadata": {},
   "outputs": [],
   "source": []
  },
  {
   "cell_type": "code",
   "execution_count": null,
   "id": "003660c1",
   "metadata": {},
   "outputs": [],
   "source": []
  },
  {
   "cell_type": "code",
   "execution_count": null,
   "id": "8a891ff4",
   "metadata": {},
   "outputs": [],
   "source": []
  },
  {
   "cell_type": "code",
   "execution_count": null,
   "id": "7a852e18",
   "metadata": {},
   "outputs": [],
   "source": []
  }
 ],
 "metadata": {
  "kernelspec": {
   "display_name": "Python 3 (ipykernel)",
   "language": "python",
   "name": "python3"
  },
  "language_info": {
   "codemirror_mode": {
    "name": "ipython",
    "version": 3
   },
   "file_extension": ".py",
   "mimetype": "text/x-python",
   "name": "python",
   "nbconvert_exporter": "python",
   "pygments_lexer": "ipython3",
   "version": "3.9.7"
  }
 },
 "nbformat": 4,
 "nbformat_minor": 5
}
