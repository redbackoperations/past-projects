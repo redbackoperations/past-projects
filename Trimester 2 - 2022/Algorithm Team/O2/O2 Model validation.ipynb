{
 "cells": [
  {
   "cell_type": "code",
   "execution_count": 5,
   "metadata": {},
   "outputs": [],
   "source": [
    "from sklearn.model_selection import train_test_split\n",
    "from sklearn.preprocessing import StandardScaler\n",
    "from sklearn.neural_network import MLPRegressor\n",
    "from sklearn import metrics\n",
    "from sklearn.model_selection import GridSearchCV\n",
    "\n",
    "import numpy as np\n",
    "import pandas as pd\n",
    "import matplotlib.pyplot as plt\n",
    "import seaborn as sns"
   ]
  },
  {
   "cell_type": "code",
   "execution_count": 37,
   "metadata": {},
   "outputs": [],
   "source": [
    "df1 = pd.read_csv('day1_data_WITHOUT_ARRHYTHMIAS.csv', \n",
    "                  names = [\"Time\",\"Power\",\"VO2\",\"Cadence\",\"La\",\"RF\",\"HR\",\"Sat\"])\n",
    "df2 = pd.read_csv('day2_data_WITHOUT_ARRHYTHMIAS.csv', \n",
    "                  names = [\"Time\",\"Power\",\"VO2\",\"Cadence\",\"La\",\"RF\",\"HR\",\"Sat\"],sep = \";\")\n",
    "df3 = pd.read_csv('day3_data_WITHOUT_ARRHYTHMIAS.csv', \n",
    "                  names = [\"Time\",\"Power\",\"VO2\",\"Cadence\",\"La\",\"RF\",\"HR\",\"Sat\"], sep = \";\")"
   ]
  },
  {
   "cell_type": "code",
   "execution_count": 38,
   "metadata": {},
   "outputs": [],
   "source": [
    "frames = [df1,df2,df3]\n",
    "\n",
    "df = pd.concat(frames)\n"
   ]
  },
  {
   "cell_type": "code",
   "execution_count": 39,
   "metadata": {},
   "outputs": [
    {
     "data": {
      "text/plain": [
       "(8818, 8)"
      ]
     },
     "execution_count": 39,
     "metadata": {},
     "output_type": "execute_result"
    }
   ],
   "source": [
    "df.shape"
   ]
  },
  {
   "cell_type": "code",
   "execution_count": 42,
   "metadata": {},
   "outputs": [],
   "source": [
    "x = df.drop(['VO2',\"La\",\"Sat\"], axis = 1)\n",
    "y = df['VO2']\n",
    "\n",
    "trainX, testX, trainY, testY = train_test_split(x,y, test_size = 0.2)"
   ]
  },
  {
   "cell_type": "code",
   "execution_count": 43,
   "metadata": {
    "scrolled": true
   },
   "outputs": [
    {
     "data": {
      "text/html": [
       "<div>\n",
       "<style scoped>\n",
       "    .dataframe tbody tr th:only-of-type {\n",
       "        vertical-align: middle;\n",
       "    }\n",
       "\n",
       "    .dataframe tbody tr th {\n",
       "        vertical-align: top;\n",
       "    }\n",
       "\n",
       "    .dataframe thead th {\n",
       "        text-align: right;\n",
       "    }\n",
       "</style>\n",
       "<table border=\"1\" class=\"dataframe\">\n",
       "  <thead>\n",
       "    <tr style=\"text-align: right;\">\n",
       "      <th></th>\n",
       "      <th>Time</th>\n",
       "      <th>Power</th>\n",
       "      <th>VO2</th>\n",
       "      <th>Cadence</th>\n",
       "      <th>La</th>\n",
       "      <th>RF</th>\n",
       "      <th>HR</th>\n",
       "      <th>Sat</th>\n",
       "    </tr>\n",
       "  </thead>\n",
       "  <tbody>\n",
       "    <tr>\n",
       "      <th>Time</th>\n",
       "      <td>1.000000</td>\n",
       "      <td>-0.046681</td>\n",
       "      <td>0.049032</td>\n",
       "      <td>-0.110181</td>\n",
       "      <td>0.580773</td>\n",
       "      <td>0.297472</td>\n",
       "      <td>0.171947</td>\n",
       "      <td>-0.617371</td>\n",
       "    </tr>\n",
       "    <tr>\n",
       "      <th>Power</th>\n",
       "      <td>-0.046681</td>\n",
       "      <td>1.000000</td>\n",
       "      <td>0.602739</td>\n",
       "      <td>0.671932</td>\n",
       "      <td>-0.016983</td>\n",
       "      <td>0.379241</td>\n",
       "      <td>0.593718</td>\n",
       "      <td>0.078258</td>\n",
       "    </tr>\n",
       "    <tr>\n",
       "      <th>VO2</th>\n",
       "      <td>0.049032</td>\n",
       "      <td>0.602739</td>\n",
       "      <td>1.000000</td>\n",
       "      <td>0.693714</td>\n",
       "      <td>0.209067</td>\n",
       "      <td>0.778697</td>\n",
       "      <td>0.938484</td>\n",
       "      <td>0.020588</td>\n",
       "    </tr>\n",
       "    <tr>\n",
       "      <th>Cadence</th>\n",
       "      <td>-0.110181</td>\n",
       "      <td>0.671932</td>\n",
       "      <td>0.693714</td>\n",
       "      <td>1.000000</td>\n",
       "      <td>-0.031408</td>\n",
       "      <td>0.462451</td>\n",
       "      <td>0.663975</td>\n",
       "      <td>0.138539</td>\n",
       "    </tr>\n",
       "    <tr>\n",
       "      <th>La</th>\n",
       "      <td>0.580773</td>\n",
       "      <td>-0.016983</td>\n",
       "      <td>0.209067</td>\n",
       "      <td>-0.031408</td>\n",
       "      <td>1.000000</td>\n",
       "      <td>0.491533</td>\n",
       "      <td>0.252437</td>\n",
       "      <td>-0.405162</td>\n",
       "    </tr>\n",
       "    <tr>\n",
       "      <th>RF</th>\n",
       "      <td>0.297472</td>\n",
       "      <td>0.379241</td>\n",
       "      <td>0.778697</td>\n",
       "      <td>0.462451</td>\n",
       "      <td>0.491533</td>\n",
       "      <td>1.000000</td>\n",
       "      <td>0.745110</td>\n",
       "      <td>-0.165612</td>\n",
       "    </tr>\n",
       "    <tr>\n",
       "      <th>HR</th>\n",
       "      <td>0.171947</td>\n",
       "      <td>0.593718</td>\n",
       "      <td>0.938484</td>\n",
       "      <td>0.663975</td>\n",
       "      <td>0.252437</td>\n",
       "      <td>0.745110</td>\n",
       "      <td>1.000000</td>\n",
       "      <td>0.005782</td>\n",
       "    </tr>\n",
       "    <tr>\n",
       "      <th>Sat</th>\n",
       "      <td>-0.617371</td>\n",
       "      <td>0.078258</td>\n",
       "      <td>0.020588</td>\n",
       "      <td>0.138539</td>\n",
       "      <td>-0.405162</td>\n",
       "      <td>-0.165612</td>\n",
       "      <td>0.005782</td>\n",
       "      <td>1.000000</td>\n",
       "    </tr>\n",
       "  </tbody>\n",
       "</table>\n",
       "</div>"
      ],
      "text/plain": [
       "             Time     Power       VO2   Cadence        La        RF        HR  \\\n",
       "Time     1.000000 -0.046681  0.049032 -0.110181  0.580773  0.297472  0.171947   \n",
       "Power   -0.046681  1.000000  0.602739  0.671932 -0.016983  0.379241  0.593718   \n",
       "VO2      0.049032  0.602739  1.000000  0.693714  0.209067  0.778697  0.938484   \n",
       "Cadence -0.110181  0.671932  0.693714  1.000000 -0.031408  0.462451  0.663975   \n",
       "La       0.580773 -0.016983  0.209067 -0.031408  1.000000  0.491533  0.252437   \n",
       "RF       0.297472  0.379241  0.778697  0.462451  0.491533  1.000000  0.745110   \n",
       "HR       0.171947  0.593718  0.938484  0.663975  0.252437  0.745110  1.000000   \n",
       "Sat     -0.617371  0.078258  0.020588  0.138539 -0.405162 -0.165612  0.005782   \n",
       "\n",
       "              Sat  \n",
       "Time    -0.617371  \n",
       "Power    0.078258  \n",
       "VO2      0.020588  \n",
       "Cadence  0.138539  \n",
       "La      -0.405162  \n",
       "RF      -0.165612  \n",
       "HR       0.005782  \n",
       "Sat      1.000000  "
      ]
     },
     "execution_count": 43,
     "metadata": {},
     "output_type": "execute_result"
    }
   ],
   "source": [
    "df.corr()"
   ]
  },
  {
   "cell_type": "code",
   "execution_count": 44,
   "metadata": {},
   "outputs": [],
   "source": [
    "sc = StandardScaler()\n",
    "\n",
    "scaler = sc.fit(trainX)\n",
    "trainX_scaled = scaler.transform(trainX)\n",
    "testX_scaled = scaler.transform(testX)"
   ]
  },
  {
   "cell_type": "code",
   "execution_count": 55,
   "metadata": {},
   "outputs": [
    {
     "name": "stderr",
     "output_type": "stream",
     "text": [
      "D:\\Anaconda\\lib\\site-packages\\sklearn\\neural_network\\_multilayer_perceptron.py:614: ConvergenceWarning: Stochastic Optimizer: Maximum iterations (300) reached and the optimization hasn't converged yet.\n",
      "  warnings.warn(\n"
     ]
    },
    {
     "data": {
      "text/plain": [
       "MLPRegressor(hidden_layer_sizes=(150, 100, 50), learning_rate='adaptive',\n",
       "             max_iter=300)"
      ]
     },
     "execution_count": 55,
     "metadata": {},
     "output_type": "execute_result"
    }
   ],
   "source": [
    "mlp_reg = MLPRegressor(alpha = 0.0001,hidden_layer_sizes=(150,100,50), \n",
    "                       learning_rate= 'adaptive', max_iter= 300, solver='adam', activation = 'relu')\n",
    "mlp_reg.fit(trainX_scaled, trainY)"
   ]
  },
  {
   "cell_type": "code",
   "execution_count": 135,
   "metadata": {},
   "outputs": [],
   "source": [
    "y_pred = mlp_reg.predict(testX_scaled)"
   ]
  },
  {
   "cell_type": "code",
   "execution_count": 127,
   "metadata": {},
   "outputs": [
    {
     "data": {
      "text/html": [
       "<div>\n",
       "<style scoped>\n",
       "    .dataframe tbody tr th:only-of-type {\n",
       "        vertical-align: middle;\n",
       "    }\n",
       "\n",
       "    .dataframe tbody tr th {\n",
       "        vertical-align: top;\n",
       "    }\n",
       "\n",
       "    .dataframe thead th {\n",
       "        text-align: right;\n",
       "    }\n",
       "</style>\n",
       "<table border=\"1\" class=\"dataframe\">\n",
       "  <thead>\n",
       "    <tr style=\"text-align: right;\">\n",
       "      <th></th>\n",
       "      <th>Actual</th>\n",
       "      <th>Predicted</th>\n",
       "    </tr>\n",
       "  </thead>\n",
       "  <tbody>\n",
       "    <tr>\n",
       "      <th>2138</th>\n",
       "      <td>901.71</td>\n",
       "      <td>955.162828</td>\n",
       "    </tr>\n",
       "    <tr>\n",
       "      <th>1849</th>\n",
       "      <td>3593.90</td>\n",
       "      <td>3351.185689</td>\n",
       "    </tr>\n",
       "    <tr>\n",
       "      <th>1232</th>\n",
       "      <td>3480.80</td>\n",
       "      <td>3109.700727</td>\n",
       "    </tr>\n",
       "    <tr>\n",
       "      <th>1428</th>\n",
       "      <td>3371.60</td>\n",
       "      <td>3575.813223</td>\n",
       "    </tr>\n",
       "    <tr>\n",
       "      <th>1236</th>\n",
       "      <td>3083.20</td>\n",
       "      <td>3113.152082</td>\n",
       "    </tr>\n",
       "  </tbody>\n",
       "</table>\n",
       "</div>"
      ],
      "text/plain": [
       "       Actual    Predicted\n",
       "2138   901.71   955.162828\n",
       "1849  3593.90  3351.185689\n",
       "1232  3480.80  3109.700727\n",
       "1428  3371.60  3575.813223\n",
       "1236  3083.20  3113.152082"
      ]
     },
     "execution_count": 127,
     "metadata": {},
     "output_type": "execute_result"
    }
   ],
   "source": [
    "df_temp = pd.DataFrame({\"Actual\":testY, 'Predicted': y_pred})\n",
    "df_temp.head()"
   ]
  },
  {
   "cell_type": "code",
   "execution_count": 128,
   "metadata": {},
   "outputs": [
    {
     "name": "stdout",
     "output_type": "stream",
     "text": [
      "Mean Absolute Error: 183.82685810987797\n",
      "Mean Squared Error: 58932.116502475146\n",
      "Root Mean SquaredError: 242.75937984447717\n"
     ]
    }
   ],
   "source": [
    "print(\"Mean Absolute Error:\", metrics.mean_absolute_error(testY, y_pred))\n",
    "print(\"Mean Squared Error:\", metrics.mean_squared_error(testY, y_pred))\n",
    "print(\"Root Mean SquaredError:\", np.sqrt(metrics.mean_squared_error(testY, y_pred)))"
   ]
  },
  {
   "cell_type": "markdown",
   "metadata": {},
   "source": [
    "As we can see, the RMSE of 242.76 with a greater set of real data to train/test on has increased the error. The previous model with these hyperparamters concluded a RMSE of 184.20."
   ]
  },
  {
   "cell_type": "code",
   "execution_count": null,
   "metadata": {},
   "outputs": [],
   "source": []
  },
  {
   "cell_type": "code",
   "execution_count": 58,
   "metadata": {},
   "outputs": [],
   "source": [
    "param_grid = {\n",
    "    'hidden_layer_sizes': [(150,100,50),(120,80,40),(100,50,30)],\n",
    "    'max_iter': [50,100,300],\n",
    "    'activation': ['tanh','relu'],\n",
    "    'solver':['sgd','adam'],\n",
    "    'alpha': [0.0001,0.5],\n",
    "    'learning_rate':['constant','adaptive']\n",
    "}"
   ]
  },
  {
   "cell_type": "code",
   "execution_count": 59,
   "metadata": {},
   "outputs": [
    {
     "name": "stderr",
     "output_type": "stream",
     "text": [
      "D:\\Anaconda\\lib\\site-packages\\sklearn\\model_selection\\_search.py:922: UserWarning: One or more of the test scores are non-finite: [ 0.44692453 -4.78984903  0.62642129 -4.47921121  0.7364747  -3.35503202\n",
      "  0.83635881 -4.78686183  0.66739786 -4.4802301   0.82421279 -3.3534005\n",
      "  0.76790417 -4.85438084  0.5954797  -4.60056184  0.5698914  -3.6674487\n",
      "  0.30570435 -4.8552032   0.78607343 -4.60399656  0.80131545 -3.66863304\n",
      "  0.75484757 -4.92247064  0.79227093 -4.72858915  0.64915897 -3.99718874\n",
      "  0.57563842 -4.92198329  0.74207107 -4.72850401  0.60091774 -3.99805521\n",
      "  0.60110155 -4.78639953  0.57303347 -4.47837734  0.60437941 -3.35538608\n",
      "  0.62430435 -4.78887134  0.65846434 -4.47765255  0.7904751  -3.35221319\n",
      "  0.73031517 -4.85545739  0.5873511  -4.60305899  0.46735961 -3.66842782\n",
      "  0.80315096 -4.85788858  0.81508486 -4.60355541  0.76755752 -3.66636253\n",
      "  0.67657069 -4.92475553  0.55073385 -4.72845573  0.61916884 -3.99731342\n",
      "  0.73369721 -4.92319848  0.76289336 -4.72850302  0.79787931 -3.99873518\n",
      "         nan  0.92489078         nan  0.9305434          nan  0.93454369\n",
      "         nan  0.92631226         nan  0.93018114         nan  0.93452608\n",
      "         nan  0.92346772         nan  0.93006505         nan  0.93379376\n",
      "         nan  0.92411079         nan  0.93003973         nan  0.93461487\n",
      "         nan  0.92056035         nan  0.9276974          nan  0.93357566\n",
      "         nan  0.91948418         nan  0.92781895         nan  0.93370086\n",
      "         nan  0.92528067         nan  0.93073412         nan  0.93556099\n",
      "         nan  0.92600814         nan  0.93033498         nan  0.93377715\n",
      "         nan  0.92334613         nan  0.93043328         nan  0.93427679\n",
      "         nan  0.92318058         nan  0.93037478         nan  0.93429726\n",
      "         nan  0.92036151         nan  0.9290711          nan  0.93327074\n",
      "         nan  0.92039488         nan  0.92865694         nan  0.93405089]\n",
      "  warnings.warn(\n"
     ]
    },
    {
     "name": "stdout",
     "output_type": "stream",
     "text": [
      "{'activation': 'relu', 'alpha': 0.5, 'hidden_layer_sizes': (150, 100, 50), 'learning_rate': 'constant', 'max_iter': 300, 'solver': 'adam'}\n"
     ]
    }
   ],
   "source": [
    "grid = GridSearchCV(mlp_reg, param_grid, n_jobs=-1, cv = 5)\n",
    "grid.fit(trainX_scaled,trainY)\n",
    "print(grid.best_params_)"
   ]
  },
  {
   "cell_type": "code",
   "execution_count": 102,
   "metadata": {},
   "outputs": [
    {
     "name": "stdout",
     "output_type": "stream",
     "text": [
      "Mean Absolute Error: 186.7250464291655\n",
      "Mean Squared Error: 60992.315193057904\n",
      "Root Mean SquaredError: 246.96622277764607\n"
     ]
    }
   ],
   "source": [
    "grid_predictions = grid.predict(testX_scaled)\n",
    "print(\"Mean Absolute Error:\", metrics.mean_absolute_error(testY, grid_predictions))\n",
    "print(\"Mean Squared Error:\", metrics.mean_squared_error(testY, grid_predictions))\n",
    "print(\"Root Mean SquaredError:\", np.sqrt(metrics.mean_squared_error(testY, grid_predictions)))"
   ]
  },
  {
   "cell_type": "code",
   "execution_count": 103,
   "metadata": {},
   "outputs": [
    {
     "data": {
      "text/plain": [
       "0.940842005076807"
      ]
     },
     "execution_count": 103,
     "metadata": {},
     "output_type": "execute_result"
    }
   ],
   "source": [
    "from sklearn.metrics import r2_score\n",
    "r2_score(testY, grid_predictions)"
   ]
  },
  {
   "cell_type": "code",
   "execution_count": 104,
   "metadata": {},
   "outputs": [
    {
     "data": {
      "text/plain": [
       "DecisionTreeRegressor(max_depth=2, random_state=1)"
      ]
     },
     "execution_count": 104,
     "metadata": {},
     "output_type": "execute_result"
    }
   ],
   "source": [
    "from sklearn.tree import DecisionTreeRegressor\n",
    "dtr1 = DecisionTreeRegressor(max_depth=2,\n",
    "                             random_state=1)\n",
    "dtr1.fit(trainX, trainY)"
   ]
  },
  {
   "cell_type": "code",
   "execution_count": 62,
   "metadata": {},
   "outputs": [],
   "source": [
    "from sklearn import tree"
   ]
  },
  {
   "cell_type": "code",
   "execution_count": 63,
   "metadata": {},
   "outputs": [
    {
     "data": {
      "text/plain": [
       "[Text(167.4, 181.2, 'X[4] <= 100.95\\nmse = 1026600.681\\nsamples = 7054\\nvalue = 2300.315'),\n",
       " Text(83.7, 108.72, 'X[4] <= 71.65\\nmse = 112927.969\\nsamples = 1306\\nvalue = 654.429'),\n",
       " Text(41.85, 36.23999999999998, 'mse = 44144.942\\nsamples = 565\\nvalue = 423.588'),\n",
       " Text(125.55000000000001, 36.23999999999998, 'mse = 93762.546\\nsamples = 741\\nvalue = 830.442'),\n",
       " Text(251.10000000000002, 108.72, 'X[4] <= 134.85\\nmse = 478852.263\\nsamples = 5748\\nvalue = 2674.276'),\n",
       " Text(209.25, 36.23999999999998, 'mse = 174974.189\\nsamples = 3201\\nvalue = 2187.965'),\n",
       " Text(292.95, 36.23999999999998, 'mse = 189990.367\\nsamples = 2547\\nvalue = 3285.458')]"
      ]
     },
     "execution_count": 63,
     "metadata": {},
     "output_type": "execute_result"
    },
    {
     "data": {
      "image/png": "[encoded data removed]",
      "text/plain": [
       "<Figure size 432x288 with 1 Axes>"
      ]
     },
     "metadata": {
      "needs_background": "light"
     },
     "output_type": "display_data"
    }
   ],
   "source": [
    "tree.plot_tree(dtr1)"
   ]
  },
  {
   "cell_type": "code",
   "execution_count": 65,
   "metadata": {},
   "outputs": [
    {
     "data": {
      "image/png": "[encoded data removed]",
      "text/plain": [
       "<Figure size 432x288 with 1 Axes>"
      ]
     },
     "metadata": {
      "needs_background": "light"
     },
     "output_type": "display_data"
    }
   ],
   "source": [
    "from sklearn.metrics import mean_squared_error as mse\n",
    "\n",
    "max_depths = range(1, 20)\n",
    "training_error = []\n",
    "for max_depth in max_depths:\n",
    "    model_1 = DecisionTreeRegressor(max_depth=max_depth)\n",
    "    model_1.fit(trainX, trainY)\n",
    "    training_error.append(mse(y, model_1.predict(x)))\n",
    "    \n",
    "testing_error = []\n",
    "for max_depth in max_depths:\n",
    "    model_3 = DecisionTreeRegressor(max_depth=max_depth)\n",
    "    model_3.fit(trainX, trainY)\n",
    "    testing_error.append(mse(testY, model_3.predict(testX)))\n",
    "\n",
    "plt.plot(max_depths, training_error, color='blue', label='Training error')\n",
    "plt.plot(max_depths, testing_error, color='green', label='Testing error')\n",
    "plt.xlabel('Tree depth')\n",
    "plt.axvline(x=7, color='orange', linestyle='--')\n",
    "plt.annotate('optimum = 7', xy=(7.5, 1.17), color='red')\n",
    "plt.ylabel('Mean squared error')\n",
    "plt.title('Hyperparameter Tuning', pad=15, size=15)\n",
    "plt.legend()\n",
    "plt.savefig('error.png')"
   ]
  },
  {
   "cell_type": "code",
   "execution_count": 66,
   "metadata": {},
   "outputs": [
    {
     "name": "stdout",
     "output_type": "stream",
     "text": [
      "{'max_depth': 10, 'min_samples_split': 20}\n",
      "68146.38720848065\n"
     ]
    }
   ],
   "source": [
    "from sklearn.model_selection import GridSearchCV\n",
    "\n",
    "model = DecisionTreeRegressor()\n",
    "\n",
    "gs = GridSearchCV(model,\n",
    "                  param_grid = {'max_depth': range(1, 11),\n",
    "                                'min_samples_split': range(10, 60, 10)},\n",
    "                  cv=5,\n",
    "                  n_jobs=1,\n",
    "                  scoring='neg_mean_squared_error')\n",
    "\n",
    "gs.fit(trainX, trainY)\n",
    "\n",
    "print(gs.best_params_)\n",
    "print(-gs.best_score_)"
   ]
  },
  {
   "cell_type": "code",
   "execution_count": 134,
   "metadata": {},
   "outputs": [],
   "source": [
    "new_model = DecisionTreeRegressor(max_depth=10,\n",
    "                                  min_samples_split=20)\n",
    "# or new_model = gs.best_estimator_\n",
    "new_model.fit(trainX, trainY)\n",
    "\n",
    "testY_predict = new_model.predict(testX)\n"
   ]
  },
  {
   "cell_type": "code",
   "execution_count": 106,
   "metadata": {},
   "outputs": [
    {
     "data": {
      "text/plain": [
       "Text(0, 0.5, 'testY_predict')"
      ]
     },
     "execution_count": 106,
     "metadata": {},
     "output_type": "execute_result"
    },
    {
     "data": {
      "image/png": "[encoded data removed]",
      "text/plain": [
       "<Figure size 432x288 with 1 Axes>"
      ]
     },
     "metadata": {
      "needs_background": "light"
     },
     "output_type": "display_data"
    }
   ],
   "source": [
    "# Plotting y_test and y_pred to understand the spread\n",
    "\n",
    "fig = plt.figure()\n",
    "plt.scatter(testY, testY_predict)\n",
    "fig.suptitle('testY vs testY_predict', fontsize = 20)              # Plot heading \n",
    "plt.xlabel('testY', fontsize = 18)                                 # X-label\n",
    "plt.ylabel('testY_predict', fontsize = 16)  "
   ]
  },
  {
   "cell_type": "code",
   "execution_count": 107,
   "metadata": {},
   "outputs": [
    {
     "name": "stdout",
     "output_type": "stream",
     "text": [
      "Mean Absolute Error: 181.59614763874671\n",
      "Mean Squared Error: 60859.728578348244\n",
      "Root Mean SquaredError: 246.69764607378855\n"
     ]
    }
   ],
   "source": [
    "grid_predictions = grid.predict(testX_scaled)\n",
    "print(\"Mean Absolute Error:\", metrics.mean_absolute_error(testY, testY_predict))\n",
    "print(\"Mean Squared Error:\", metrics.mean_squared_error(testY, testY_predict))\n",
    "print(\"Root Mean SquaredError:\", np.sqrt(metrics.mean_squared_error(testY, testY_predict)))"
   ]
  },
  {
   "cell_type": "code",
   "execution_count": 108,
   "metadata": {},
   "outputs": [
    {
     "data": {
      "text/plain": [
       "0.9409706042004023"
      ]
     },
     "execution_count": 108,
     "metadata": {},
     "output_type": "execute_result"
    }
   ],
   "source": [
    "from sklearn.metrics import r2_score\n",
    "r2_score(testY, testY_predict)"
   ]
  },
  {
   "cell_type": "markdown",
   "metadata": {},
   "source": [
    "Upon repeating the training with the same hyperparameter tuning we can see that accuracy has also decreased from 0.99 to 0.94 for Decision Tree Regressor as well."
   ]
  },
  {
   "cell_type": "code",
   "execution_count": null,
   "metadata": {},
   "outputs": [],
   "source": []
  },
  {
   "cell_type": "code",
   "execution_count": null,
   "metadata": {},
   "outputs": [],
   "source": []
  },
  {
   "cell_type": "code",
   "execution_count": 71,
   "metadata": {},
   "outputs": [],
   "source": [
    "from sklearn import linear_model\n",
    "from sklearn.linear_model import LinearRegression"
   ]
  },
  {
   "cell_type": "code",
   "execution_count": 109,
   "metadata": {},
   "outputs": [
    {
     "data": {
      "text/plain": [
       "LinearRegression()"
      ]
     },
     "execution_count": 109,
     "metadata": {},
     "output_type": "execute_result"
    }
   ],
   "source": [
    "# Instantiate\n",
    "lm = LinearRegression()\n",
    "\n",
    "# Fit a line\n",
    "lm.fit(trainX_scaled, trainY)"
   ]
  },
  {
   "cell_type": "code",
   "execution_count": 110,
   "metadata": {},
   "outputs": [
    {
     "name": "stdout",
     "output_type": "stream",
     "text": [
      "[-138.48436455   33.61424118   69.62621683  243.16632472  726.32605659]\n",
      "2300.315275007089\n"
     ]
    }
   ],
   "source": [
    "# Print the coefficients and intercept\n",
    "print(lm.coef_)\n",
    "print(lm.intercept_)"
   ]
  },
  {
   "cell_type": "code",
   "execution_count": 111,
   "metadata": {},
   "outputs": [],
   "source": [
    "y_train = lm.predict(trainX_scaled)"
   ]
  },
  {
   "cell_type": "code",
   "execution_count": 112,
   "metadata": {},
   "outputs": [],
   "source": [
    "testY_predict = lm.predict(testX_scaled)"
   ]
  },
  {
   "cell_type": "code",
   "execution_count": 113,
   "metadata": {},
   "outputs": [
    {
     "data": {
      "text/plain": [
       "0.9282537243695373"
      ]
     },
     "execution_count": 113,
     "metadata": {},
     "output_type": "execute_result"
    }
   ],
   "source": [
    "r2_score(testY, testY_predict)"
   ]
  },
  {
   "cell_type": "markdown",
   "metadata": {},
   "source": [
    "The linear regression model on further validation on a larger set of data appears to have decreased in accuracy as well. The R-Squared value on testing has decreased from 97.63% in the first model to 92.83% in this data set."
   ]
  },
  {
   "cell_type": "code",
   "execution_count": 131,
   "metadata": {},
   "outputs": [],
   "source": [
    "mydf1 = pd.read_csv('sbj_1_I.csv')\n",
    "mydf1 = mydf1[['time','Power','Oxygen','Cadence','RF','HR']]"
   ]
  },
  {
   "cell_type": "code",
   "execution_count": 132,
   "metadata": {},
   "outputs": [],
   "source": [
    "xtest = mydf1.drop('Oxygen', axis=1)\n",
    "ytest = mydf1['Oxygen']\n",
    "xtest_scaled = scaler.transform(xtest)"
   ]
  },
  {
   "cell_type": "code",
   "execution_count": 136,
   "metadata": {},
   "outputs": [],
   "source": [
    "grid_predictions_mlp = grid.predict(xtest_scaled)\n",
    "testY_predict_lm = lm.predict(xtest_scaled)\n",
    "testY_predict_dt = new_model.predict(xtest)"
   ]
  },
  {
   "cell_type": "markdown",
   "metadata": {},
   "source": [
    "### Model 1 MLP Regressor"
   ]
  },
  {
   "cell_type": "code",
   "execution_count": 137,
   "metadata": {
    "scrolled": true
   },
   "outputs": [
    {
     "name": "stdout",
     "output_type": "stream",
     "text": [
      "R2 score: 0.7554785787280404\n",
      "Mean Absolute Error: 557.088377259114\n",
      "Mean Squared Error: 396769.1693645987\n",
      "Root Mean SquaredError: 629.8961576042504\n"
     ]
    }
   ],
   "source": [
    "print('R2 score:',r2_score(ytest, grid_predictions_mlp))\n",
    "print(\"Mean Absolute Error:\", metrics.mean_absolute_error(ytest, grid_predictions_mlp))\n",
    "print(\"Mean Squared Error:\", metrics.mean_squared_error(ytest, grid_predictions_mlp))\n",
    "print(\"Root Mean SquaredError:\", np.sqrt(metrics.mean_squared_error(ytest, grid_predictions_mlp)))"
   ]
  },
  {
   "cell_type": "markdown",
   "metadata": {},
   "source": [
    "### Model 2 Linear Regression"
   ]
  },
  {
   "cell_type": "code",
   "execution_count": 138,
   "metadata": {},
   "outputs": [
    {
     "name": "stdout",
     "output_type": "stream",
     "text": [
      "R2 score: 0.7572116837177636\n",
      "Mean Absolute Error: 532.3456184866882\n",
      "Mean Squared Error: 393956.97146546515\n",
      "Root Mean SquaredError: 627.6599170454213\n"
     ]
    }
   ],
   "source": [
    "print('R2 score:',r2_score(ytest, testY_predict_lm))\n",
    "print(\"Mean Absolute Error:\", metrics.mean_absolute_error(ytest, testY_predict_lm))\n",
    "print(\"Mean Squared Error:\", metrics.mean_squared_error(ytest, testY_predict_lm))\n",
    "print(\"Root Mean SquaredError:\", np.sqrt(metrics.mean_squared_error(ytest, testY_predict_lm)))"
   ]
  },
  {
   "cell_type": "markdown",
   "metadata": {},
   "source": [
    "### Model 3 Decision Tree Regressor"
   ]
  },
  {
   "cell_type": "code",
   "execution_count": 139,
   "metadata": {},
   "outputs": [
    {
     "name": "stdout",
     "output_type": "stream",
     "text": [
      "R2 score: 0.8081799636124225\n",
      "Mean Absolute Error: 420.6163441832509\n",
      "Mean Squared Error: 311254.02473568026\n",
      "Root Mean SquaredError: 557.9014471532407\n"
     ]
    }
   ],
   "source": [
    "print('R2 score:',r2_score(ytest, testY_predict_dt))\n",
    "print(\"Mean Absolute Error:\", metrics.mean_absolute_error(ytest, testY_predict_dt))\n",
    "print(\"Mean Squared Error:\", metrics.mean_squared_error(ytest, testY_predict_dt))\n",
    "print(\"Root Mean SquaredError:\", np.sqrt(metrics.mean_squared_error(ytest, testY_predict_dt)))"
   ]
  }
 ],
 "metadata": {
  "kernelspec": {
   "display_name": "Python 3",
   "language": "python",
   "name": "python3"
  },
  "language_info": {
   "codemirror_mode": {
    "name": "ipython",
    "version": 3
   },
   "file_extension": ".py",
   "mimetype": "text/x-python",
   "name": "python",
   "nbconvert_exporter": "python",
   "pygments_lexer": "ipython3",
   "version": "3.8.5"
  }
 },
 "nbformat": 4,
 "nbformat_minor": 4
}
