{
  "cells": [
    {
      "attachments": {},
      "cell_type": "markdown",
      "metadata": {
        "id": "jh00sr_4LiAy"
      },
      "source": [
        "# REDBACK OPS - SunCycle\n",
        "*Mark Telley*\n",
        "\n",
        "Connect to Wahoo, retrieve User Details, Power Zone and FIT File / Handle Fit File and process prior to ingestion into a Date Warehouse / Table"
      ]
    },
    {
      "attachments": {},
      "cell_type": "markdown",
      "metadata": {
        "id": "x-LEH1ko0ha1"
      },
      "source": [
        "## WAHOO API"
      ]
    },
    {
      "cell_type": "code",
      "execution_count": null,
      "metadata": {
        "colab": {
          "base_uri": "https://localhost:8080/"
        },
        "id": "dh_aWDr88JL0",
        "outputId": "3af1e1c5-6087-4581-dbfc-c146afa13abc"
      },
      "outputs": [
        {
          "name": "stdout",
          "output_type": "stream",
          "text": [
            "Mounted at /content/drive\n"
          ]
        }
      ],
      "source": [
        "from google.colab import drive\n",
        "\n",
        "# Mount Google Drive\n",
        "drive.mount('/content/drive')"
      ]
    },
    {
      "cell_type": "code",
      "execution_count": null,
      "metadata": {
        "id": "BmYQfTQtCuqb"
      },
      "outputs": [],
      "source": [
        "# Load Cred from secure location\n",
        "creds_file_path = '/content/drive/MyDrive/Colab Notebooks/Assets/Wahoo/cred.txt'\n",
        "\n",
        "# Get Key Cred details\n",
        "with open(creds_file_path, 'r') as f:\n",
        "    lines = f.readlines()\n",
        "    _, client_id = lines[0].strip().split(\" = \", 1)\n",
        "    _, client_secret = lines[1].strip().split(\" = \", 1)"
      ]
    },
    {
      "cell_type": "code",
      "execution_count": null,
      "metadata": {
        "colab": {
          "base_uri": "https://localhost:8080/"
        },
        "id": "OFdamJ_70gpa",
        "outputId": "81013d59-40b6-42a2-e39b-0cd853d4a753"
      },
      "outputs": [],
      "source": [
        "import requests\n",
        "\n",
        "# Set OAuth2 credentials and other parameters\n",
        "redirect_uri = 'https://www.WEBSITE.com' \n",
        "scopes = 'user_read%20+workouts_read%20+power_zones_read%20+power_zones_write'\n",
        "base_url = 'https://api.wahooligan.com'\n",
        "\n",
        "# Step 1: Redirect user to Wahoo login page for authorisation (Sandbox)\n",
        "auth_url = f'{base_url}/oauth/authorize?client_id={client_id}&redirect_uri=\\\n",
        "{redirect_uri}&scope={scopes}&response_type=code'\n",
        "print(f'Please go to this URL to authorize the app: {auth_url}')\n",
        "\n",
        "# User to open link, authorise, and enter code\n",
        "# auth_code = \"\"\n",
        "auth_code = input('Enter the code from the redirect URI: ') \n"
      ]
    },
    {
      "cell_type": "code",
      "execution_count": null,
      "metadata": {
        "id": "kNdweXU23sng"
      },
      "outputs": [],
      "source": [
        "# Step 2: Exchange authorisation code for access and refresh tokens\n",
        "token_url = f'{base_url}/oauth/token'\n",
        "payload = {\n",
        "    'client_id': client_id,\n",
        "    'client_secret': client_secret,\n",
        "    'redirect_uri': redirect_uri,\n",
        "    'grant_type': 'authorization_code',\n",
        "    'code': auth_code\n",
        "}"
      ]
    },
    {
      "cell_type": "code",
      "execution_count": null,
      "metadata": {
        "colab": {
          "base_uri": "https://localhost:8080/"
        },
        "id": "npzL_7Nd3wZg",
        "outputId": "0cad40b7-f197-45f1-99a5-902e567b0690"
      },
      "outputs": [
        {
          "name": "stdout",
          "output_type": "stream",
          "text": [
            "Mon May  8 06:18:42 2023\n"
          ]
        }
      ],
      "source": [
        "# Check Expiry Time\n",
        "import time\n",
        "response = requests.post(token_url, data=payload)\n",
        "if response.status_code != 200:\n",
        "    raise Exception(f'Error getting access token: {response.text}')\n",
        "access_token = response.json()['access_token']\n",
        "refresh_token = response.json()['refresh_token']\n",
        "expires_in = response.json()['expires_in']\n",
        "expiration_time = time.time() + expires_in\n",
        "human_readable_time = time.ctime(expiration_time)\n",
        "print(human_readable_time)"
      ]
    },
    {
      "cell_type": "code",
      "execution_count": null,
      "metadata": {
        "colab": {
          "base_uri": "https://localhost:8080/"
        },
        "id": "g2w82HiKSfGy",
        "outputId": "6f33ea67-1d02-4276-b4a3-8c630272c105"
      },
      "outputs": [],
      "source": [
        "# CURL - Quick Check\n",
        "!curl --header 'Authorization: Bearer {access_token}'\\\n",
        " https://api.wahooligan.com/v1/user"
      ]
    },
    {
      "cell_type": "code",
      "execution_count": null,
      "metadata": {
        "colab": {
          "base_uri": "https://localhost:8080/"
        },
        "id": "x5wAMtAj321j",
        "outputId": "617a28ee-c3b8-4f1a-cd57-e6d583525e0c"
      },
      "outputs": [],
      "source": [
        "from datetime import datetime\n",
        "# Step 3: Use access token to get authenticated user details\n",
        "user_url = f'{base_url}/v1/user'\n",
        "headers = {'Authorization': f'Bearer {access_token}'}\n",
        "response = requests.get(user_url, headers=headers)\n",
        "if response.status_code != 200:\n",
        "    raise Exception(f'Error getting user details: {response.text}')\n",
        "user_details = response.json()\n",
        "\n",
        "# Print the user details\n",
        "print(f'User ID:{user_details[\"id\"]}') \n",
        "print(f'Name: {user_details[\"first\"]} {user_details[\"last\"]}')\n",
        "gender = user_details[\"gender\"]\n",
        "if gender == 0:\n",
        "    print(\"Gender: Male\")\n",
        "elif gender == 1:\n",
        "    print(\"Gender: Female\")\n",
        "else:\n",
        "    print(\"Gender: Prefer not to say\")\n",
        "print(f'Height: {user_details[\"height\"]} meters')\n",
        "print(f'Weight: {user_details[\"weight\"]} kg')\n",
        "# Convert to date object\n",
        "dob = datetime.strptime(user_details[\"birth\"], '%Y-%m-%d').date() \n",
        "today = datetime.today().date()  # Get today's date\n",
        "age = today.year - dob.year - ((today.month, today.day) < (dob.month, dob.day))\n",
        "print(f'Birthday: {user_details[\"birth\"]}')\n",
        "print(f\"Current age is {age} years.\")"
      ]
    },
    {
      "attachments": {},
      "cell_type": "markdown",
      "metadata": {
        "id": "I1w8X16QlX5m"
      },
      "source": [
        "---\n",
        "POWER ZONES"
      ]
    },
    {
      "cell_type": "code",
      "execution_count": null,
      "metadata": {
        "colab": {
          "base_uri": "https://localhost:8080/"
        },
        "id": "PD6oqx75X1Xl",
        "outputId": "0e907511-9fc9-4005-b2f2-8bcc1c6b3049"
      },
      "outputs": [
        {
          "name": "stdout",
          "output_type": "stream",
          "text": [
            "[]\n"
          ]
        }
      ],
      "source": [
        "# No Power (Sandbox restriction) - CHECK Again\n",
        "url = 'https://api.wahooligan.com/v1/power_zones'\n",
        "\n",
        "response = requests.get(url, headers=headers)\n",
        "\n",
        "if response.status_code == 200:\n",
        "    # Print the response body\n",
        "    print(response.json())\n",
        "else:\n",
        "    # Print the status code and error message\n",
        "    print(f'Error: {response.status_code} - {response.reason}')"
      ]
    },
    {
      "attachments": {},
      "cell_type": "markdown",
      "metadata": {
        "id": "ieHGkNbconYI"
      },
      "source": [
        "Create Power Zones"
      ]
    },
    {
      "cell_type": "code",
      "execution_count": null,
      "metadata": {
        "colab": {
          "base_uri": "https://localhost:8080/"
        },
        "id": "QM3cbft6l7Ee",
        "outputId": "c5e690a8-17ed-4dec-9341-71aa64dae961"
      },
      "outputs": [],
      "source": [
        "!curl --header 'Authorization: Bearer {access_token}'  -X POST -d 'power_zone[zone_1]=100&power_zone[zone_2]=120&power_zone[zone_3]=120&power_zone[zone_4]=120&power_zone[zone_5]=120&power_zone[zone_6]=120&power_zone[zone_7]=120&power_zone[ftp]=400&power_zone[zone_count]=8&power_zone[workout_type_family_id]=6&power_zone[critical_power]=324' https://api.wahooligan.com/v1/power_zones"
      ]
    },
    {
      "attachments": {},
      "cell_type": "markdown",
      "metadata": {
        "id": "1k-u_GMpoQKl"
      },
      "source": [
        "Power Zone ID = 3437134\n",
        "\n",
        "Get Power Zones"
      ]
    },
    {
      "cell_type": "code",
      "execution_count": null,
      "metadata": {
        "colab": {
          "base_uri": "https://localhost:8080/"
        },
        "id": "rAzcvIHhn03H",
        "outputId": "d113f326-f10c-4eb0-82ff-4259a4e9e35c"
      },
      "outputs": [],
      "source": [
        "!curl --header 'Authorization: Bearer {access_token}' https://api.wahooligan.com/v1/power_zones"
      ]
    },
    {
      "attachments": {},
      "cell_type": "markdown",
      "metadata": {
        "id": "fl9G8zbGosu1"
      },
      "source": [
        "Delete the Power Zone created"
      ]
    },
    {
      "cell_type": "code",
      "execution_count": null,
      "metadata": {
        "colab": {
          "base_uri": "https://localhost:8080/"
        },
        "id": "66m4u97ooah7",
        "outputId": "088769f8-319e-42c0-f28c-c09524caf275"
      },
      "outputs": [
        {
          "name": "stdout",
          "output_type": "stream",
          "text": [
            "{\"success\":\"Power Zone has been deleted\"}"
          ]
        }
      ],
      "source": [
        "!curl -X DELETE --header 'Authorization: Bearer {access_token}' https://api.wahooligan.com/v1/power_zones/3437134"
      ]
    },
    {
      "attachments": {},
      "cell_type": "markdown",
      "metadata": {
        "id": "VB8PsUObovPR"
      },
      "source": [
        "Check if the power Zones are empty:"
      ]
    },
    {
      "cell_type": "code",
      "execution_count": null,
      "metadata": {
        "colab": {
          "base_uri": "https://localhost:8080/"
        },
        "id": "S68ieuqYofSH",
        "outputId": "478e141d-1be1-446a-90e1-fa0de3afa1d9"
      },
      "outputs": [
        {
          "name": "stdout",
          "output_type": "stream",
          "text": [
            "[]"
          ]
        }
      ],
      "source": [
        "!curl --header 'Authorization: Bearer {access_token}' https://api.wahooligan.com/v1/power_zones"
      ]
    },
    {
      "attachments": {},
      "cell_type": "markdown",
      "metadata": {
        "id": "FAux-6L4nAMm"
      },
      "source": [
        "---"
      ]
    },
    {
      "cell_type": "code",
      "execution_count": null,
      "metadata": {
        "colab": {
          "base_uri": "https://localhost:8080/"
        },
        "id": "QqwQJ6NCh_Ju",
        "outputId": "4ec273e1-18bc-4cb3-ce6a-74dabd320d4e"
      },
      "outputs": [],
      "source": [
        "import os\n",
        "\n",
        "# Set path\n",
        "folder_path = '/content/drive/MyDrive/Colab Notebooks/Assets/Wahoo'\n",
        "\n",
        "# Delete existing files\n",
        "extensions = ('.csv', '.fit')\n",
        "for filename in os.listdir(folder_path):\n",
        "    if filename.lower().strip().endswith(extensions):\n",
        "        file_path = os.path.join(folder_path, filename)\n",
        "        os.remove(file_path)\n",
        "        print(f\"Deleted file: {file_path}\")"
      ]
    },
    {
      "cell_type": "code",
      "execution_count": null,
      "metadata": {
        "colab": {
          "base_uri": "https://localhost:8080/",
          "height": 122
        },
        "id": "nfim7YPf6LQX",
        "outputId": "bf3d5255-fa6b-4c87-9392-84e194977d1f"
      },
      "outputs": [],
      "source": [
        "# Step 4: Use access token to get the last 4 workouts\n",
        "# TODO: UPDATE TO JUST THE LAST WORKOUT\n",
        "workouts_url = f'{base_url}/v1/workouts?per_page=4'\n",
        "headers = {'Authorization': f'Bearer {access_token}'}\n",
        "response = requests.get(workouts_url, headers=headers)\n",
        "if response.status_code != 200:\n",
        "    raise Exception(f'Error getting workouts: {response.text}')\n",
        "workouts = response.json()['workouts']\n",
        "\n",
        "# Print the last 4 workouts\n",
        "# TODO: SKIP THIS IN PRODUCTION\n",
        "for i, workout in enumerate(workouts):\n",
        "    print(f'{i + 1}: Workout ID {workout[\"id\"]} on {workout[\"updated_at\"]}')\n",
        "\n",
        "# Step 5: Let the user select a workout\n",
        "# TODO: SKIP THIS IN PRODUCTION\n",
        "while True:\n",
        "    selection = input('Select a workout (1-4): ')\n",
        "    try:\n",
        "        selection = int(selection)\n",
        "        if 1 <= selection <= 4:\n",
        "            break\n",
        "        else:\n",
        "            print('Invalid selection.')\n",
        "    except ValueError:\n",
        "        print('Invalid selection.')"
      ]
    },
    {
      "cell_type": "code",
      "execution_count": null,
      "metadata": {
        "id": "KufDLo8iMfuV"
      },
      "outputs": [],
      "source": [
        "workoutID = workout[\"id\"]"
      ]
    },
    {
      "cell_type": "code",
      "execution_count": null,
      "metadata": {
        "colab": {
          "base_uri": "https://localhost:8080/"
        },
        "id": "ZaymNkYzbV9h",
        "outputId": "a79cab90-c5f9-495a-c885-19c61aea994b"
      },
      "outputs": [],
      "source": [
        "!curl --header 'Authorization: Bearer {access_token}'\\\n",
        " https://api.wahooligan.com/v1/workouts/{workoutID}/workout_summary"
      ]
    },
    {
      "cell_type": "code",
      "execution_count": null,
      "metadata": {
        "colab": {
          "base_uri": "https://localhost:8080/",
          "height": 846
        },
        "id": "qwxddzx6MUyj",
        "outputId": "6035b583-bb47-4d97-f9ff-667094652df7"
      },
      "outputs": [],
      "source": [
        "import json\n",
        "import pandas as pd\n",
        "\n",
        "user_url = f'{base_url}/v1/workouts/{workoutID}/workout_summary'\n",
        "headers = {'Authorization': f'Bearer {access_token}'}\n",
        "response = requests.get(user_url, headers=headers)\n",
        "if response.status_code != 200:\n",
        "    raise Exception(f'Error getting user details: {response.text}')\n",
        "workout_details = response.json()\n",
        "\n",
        "# Print the workout details\n",
        "print(f'Workout ID: {workout_details[\"id\"]}')\n",
        "print(f'Ascent Accumulated: {workout_details[\"ascent_accum\"]}')\n",
        "print(f'Average Cadence: {workout_details[\"cadence_avg\"]}')\n",
        "print(f'Calories Accumulated: {workout_details[\"calories_accum\"]}')\n",
        "print(f'Distance Accumulated: {workout_details[\"distance_accum\"]}')\n",
        "print(f'Active Duration Accumulated: {workout_details[\"duration_active_accum\"]}')\n",
        "print(f'Paused Duration Accumulated: {workout_details[\"duration_paused_accum\"]}')\n",
        "print(f'Total Duration Accumulated: {workout_details[\"duration_total_accum\"]}')\n",
        "print(f'Average Heart Rate: {workout_details[\"heart_rate_avg\"]}')\n",
        "print(f'Last Bike Normalized Power: {workout_details[\"power_bike_np_last\"]}')\n",
        "print(f'Last Bike Training Stress Score: {workout_details[\"power_bike_tss_last\"]}')\n",
        "print(f'Average Power: {workout_details[\"power_avg\"]}')\n",
        "print(f'Average Speed: {workout_details[\"speed_avg\"]}')\n",
        "print(f'Work Accumulated: {workout_details[\"work_accum\"]}')\n",
        "print(f'File URL: {workout_details[\"file\"][\"url\"]}')\n",
        "print(f'Created At: {workout_details[\"created_at\"]}')\n",
        "print(f'Updated At: {workout_details[\"updated_at\"]}')\n",
        "\n",
        "# JSON response\n",
        "json_response = json.dumps(workout_details)\n",
        "\n",
        "# Load JSON response\n",
        "data = json.loads(json_response)\n",
        "\n",
        "# Flatten nested JSON into a flat dictionary\n",
        "def flatten_json(json_data, prefix=''):\n",
        "    flattened_data = {}\n",
        "    for key, value in json_data.items():\n",
        "        if isinstance(value, dict):\n",
        "            flattened_data.update(flatten_json(value, prefix + key + '_'))\n",
        "        else:\n",
        "            flattened_data[prefix + key] = value\n",
        "    return flattened_data\n",
        "\n",
        "flattened_data = flatten_json(data)\n",
        "\n",
        "# Create DataFrame\n",
        "df_workout_sum = pd.DataFrame([flattened_data])\n",
        "\n",
        "# Drop the original \"created_at\" and \"updated_at\" columns\n",
        "df_workout_sum.drop(columns=['created_at', 'updated_at'], inplace=True)\n",
        "\n",
        "df_workout_sum.T"
      ]
    },
    {
      "cell_type": "code",
      "execution_count": null,
      "metadata": {
        "colab": {
          "base_uri": "https://localhost:8080/"
        },
        "id": "IjunMqd1YV2d",
        "outputId": "d636ba7a-0168-4916-da38-17fa35475f63"
      },
      "outputs": [],
      "source": [
        "!curl --header 'Authorization: Bearer {access_token}' https://api.wahooligan.com/v1/workouts/{workoutID}"
      ]
    },
    {
      "cell_type": "code",
      "execution_count": null,
      "metadata": {
        "colab": {
          "base_uri": "https://localhost:8080/",
          "height": 1000
        },
        "id": "67Z-NsMjNPcI",
        "outputId": "b13a3258-16b3-4b76-ec64-c0bee28cbd8f"
      },
      "outputs": [],
      "source": [
        "user_url = f'{base_url}/v1/workouts/{workoutID}'\n",
        "headers = {'Authorization': f'Bearer {access_token}'}\n",
        "response = requests.get(user_url, headers=headers)\n",
        "if response.status_code != 200:\n",
        "    raise Exception(f'Error getting user details: {response.text}')\n",
        "workout_details = response.json()\n",
        "\n",
        "# Print the workout details\n",
        "print(f'Workout ID: {workout_details[\"id\"]}')\n",
        "print(f'Starts: {workout_details[\"starts\"]}')\n",
        "print(f'Minutes: {workout_details[\"minutes\"]}')\n",
        "print(f'Name: {workout_details[\"name\"]}')\n",
        "print(f'Plan ID: {workout_details[\"plan_id\"]}')\n",
        "print(f'Workout Token: {workout_details[\"workout_token\"]}')\n",
        "print(f'Workout Type ID: {workout_details[\"workout_type_id\"]}')\n",
        "print(f'Workout Summary: {workout_details[\"workout_summary\"]}')\n",
        "\n",
        "# Convert timestamp to AEST timezone\n",
        "created_at_aest = pd.to_datetime(workout_details[\"created_at\"]).tz_convert('Australia/Melbourne')\n",
        "updated_at_aest = pd.to_datetime(workout_details[\"updated_at\"]).tz_convert('Australia/Melbourne')\n",
        "\n",
        "print(f'Created At: {created_at_aest}')\n",
        "print(f'Updated At: {updated_at_aest}')\n",
        "\n",
        "# JSON response\n",
        "json_response = json.dumps(workout_details)\n",
        "\n",
        "# Load JSON response\n",
        "data = json.loads(json_response)\n",
        "\n",
        "# Flatten nested JSON into a flat dictionary\n",
        "def flatten_json(json_data, prefix=''):\n",
        "    flattened_data = {}\n",
        "    for key, value in json_data.items():\n",
        "        if isinstance(value, dict):\n",
        "            flattened_data.update(flatten_json(value, prefix + key + '_'))\n",
        "        else:\n",
        "            flattened_data[prefix + key] = value\n",
        "    return flattened_data\n",
        "\n",
        "flattened_data = flatten_json(data)\n",
        "\n",
        "# Create DataFrame\n",
        "df_workout_ = pd.DataFrame([flattened_data])\n",
        "\n",
        "# Add new date variables to the DataFrame\n",
        "df_workout_['created_at_aest'] = created_at_aest\n",
        "df_workout_['updated_at_aest'] = updated_at_aest\n",
        "\n",
        "# Drop the original \"created_at\" and \"updated_at\" columns\n",
        "df_workout_.drop(columns=['created_at', 'updated_at'], inplace=True)\n",
        "df_workout_.T\n"
      ]
    },
    {
      "cell_type": "code",
      "execution_count": null,
      "metadata": {
        "colab": {
          "base_uri": "https://localhost:8080/"
        },
        "id": "1bcuOCG1cJbq",
        "outputId": "5272d8ea-18fc-4527-d8bc-dcd9c503b3df"
      },
      "outputs": [
        {
          "name": "stdout",
          "output_type": "stream",
          "text": [
            "[]"
          ]
        }
      ],
      "source": [
        "# CURL - Quick Check POWER 215508043\n",
        "!curl --header 'Authorization: Bearer {access_token}' \\\n",
        " https://api.wahooligan.com/v1/power_zones/"
      ]
    },
    {
      "cell_type": "code",
      "execution_count": null,
      "metadata": {
        "id": "AMKKaIp37Wd3"
      },
      "outputs": [],
      "source": [
        "# Step 6: Use access token to get the workout summary and FIT file URL\n",
        "workout_id = workouts[selection - 1]['id']\n",
        "workout_summary_url = f'{base_url}/v1/workouts/{workout_id}/workout_summary'\n",
        "headers = {'Authorization': f'Bearer {access_token}'}\n",
        "response = requests.get(workout_summary_url, headers=headers)\n",
        "if response.status_code != 200:\n",
        "    raise Exception(f'Error getting workout summary: {response.text}')\n",
        "workout_summary = response.json()"
      ]
    },
    {
      "cell_type": "code",
      "execution_count": null,
      "metadata": {
        "colab": {
          "base_uri": "https://localhost:8080/"
        },
        "id": "RcUxbMmmiEo2",
        "outputId": "e08191f4-6f23-45d3-fec0-395b88643bc5"
      },
      "outputs": [
        {
          "name": "stdout",
          "output_type": "stream",
          "text": [
            "Downloaded FIT file for workout ID 215508043 to /content/drive/MyDrive/Colab Notebooks/Assets/Wahoo/215508043.fit\n"
          ]
        }
      ],
      "source": [
        "# Get FIT file URL from workout summary\n",
        "fit_file_url = workout_summary['file']['url']\n",
        "\n",
        "# Download FIT file and save to specified path\n",
        "response = requests.get(fit_file_url)\n",
        "if response.status_code != 200:\n",
        "    raise Exception(f'Error downloading FIT file: {response.text}')\n",
        "\n",
        "fit_file_path = os.path.join(folder_path, f'{workout_id}.fit')\n",
        "\n",
        "with open(fit_file_path, 'wb') as f:\n",
        "    f.write(response.content)\n",
        "\n",
        "print(f'Downloaded FIT file for workout ID {workout_id} to {fit_file_path}')"
      ]
    },
    {
      "attachments": {},
      "cell_type": "markdown",
      "metadata": {
        "id": "-FMvbGhj9L2e"
      },
      "source": [
        "## CONVERSION"
      ]
    },
    {
      "cell_type": "code",
      "execution_count": null,
      "metadata": {
        "colab": {
          "base_uri": "https://localhost:8080/"
        },
        "id": "CfRz5Pys9sF-",
        "outputId": "b7352875-0f17-404d-cea2-32611786cb78"
      },
      "outputs": [
        {
          "name": "stdout",
          "output_type": "stream",
          "text": [
            "Looking in indexes: https://pypi.org/simple, https://us-python.pkg.dev/colab-wheels/public/simple/\n",
            "Collecting fitparse\n",
            "  Downloading fitparse-1.2.0.tar.gz (65 kB)\n",
            "\u001b[2K     \u001b[90m━━━━━━━━━━━━━━━━━━━━━━━━━━━━━━━━━━━━━━━━\u001b[0m \u001b[32m65.7/65.7 kB\u001b[0m \u001b[31m2.6 MB/s\u001b[0m eta \u001b[36m0:00:00\u001b[0m\n",
            "\u001b[?25h  Preparing metadata (setup.py) ... \u001b[?25l\u001b[?25hdone\n",
            "Building wheels for collected packages: fitparse\n",
            "  Building wheel for fitparse (setup.py) ... \u001b[?25l\u001b[?25hdone\n",
            "  Created wheel for fitparse: filename=fitparse-1.2.0-py3-none-any.whl size=68227 sha256=31ef6d0122c4c672b23875cb24c26c44614e0b74e125325a4e8e0000902dc504\n",
            "  Stored in directory: /root/.cache/pip/wheels/81/67/7b/77a2f8ba348bafbbad6262a80bc51be27b2f9fccbaefc74671\n",
            "Successfully built fitparse\n",
            "Installing collected packages: fitparse\n",
            "Successfully installed fitparse-1.2.0\n"
          ]
        }
      ],
      "source": [
        "# Install\n",
        "!pip install fitparse"
      ]
    },
    {
      "cell_type": "code",
      "execution_count": null,
      "metadata": {
        "id": "JgpI6LGd9oAf"
      },
      "outputs": [],
      "source": [
        "import fitparse\n",
        "import pytz\n",
        "# import re"
      ]
    },
    {
      "cell_type": "code",
      "execution_count": null,
      "metadata": {
        "id": "Sxz0kQAw9LQ3"
      },
      "outputs": [],
      "source": [
        "# Schema\n",
        "allowed_fields = [\n",
        "    \"timestamp\",\n",
        "    \"position_lat\",\n",
        "    \"position_long\",\n",
        "    \"distance\",\n",
        "    \"enhanced_altitude\",\n",
        "    \"altitude\",\n",
        "    \"ascent\",\n",
        "    \"grade\",\n",
        "    \"calories\",\n",
        "    \"enhanced_speed\",\n",
        "    \"speed\",\n",
        "    \"heart_rate\",\n",
        "    \"temperature\",\n",
        "    \"cadence\",\n",
        "    # \"fractional_cadence\",\n",
        "    \"power\",\n",
        "    \"left_right_balance\",\n",
        "    \"gps_accuracy\",\n",
        "    \"descriptor\",\n",
        "    \"product_name\",\n",
        "    \"serial_number\",\n",
        "]\n",
        "\n",
        "# TIME DATE\n",
        "required_fields = [\"timestamp\"]\n",
        "UTC = pytz.UTC\n",
        "CST = pytz.timezone(\"Australia/Melbourne\")"
      ]
    },
    {
      "cell_type": "code",
      "execution_count": null,
      "metadata": {
        "id": "KHV9_g3Z94nc"
      },
      "outputs": [],
      "source": [
        "\"\"\" \n",
        "This code defines a function called \"write_fit_file_to_csv\" which takes a \n",
        "FitFile object as input and converts its data into a CSV file format. \n",
        "The function filters out only the required fields from the FitFile messages,\n",
        " and then writes them into a new CSV file. The output file path is \n",
        " \"test_output.csv\" by default, but can be changed by providing a \n",
        " new path as a parameter.\n",
        "\"\"\"\n",
        "\n",
        "import csv\n",
        "def write_fit_file_to_csv(fitfile, output_file=\"test_output.csv\"):\n",
        "    messages = fitfile.messages\n",
        "    # raw data in messages in one line\n",
        "    data = []\n",
        "    for m in messages:\n",
        "        skip = False\n",
        "        if not hasattr(m, \"fields\"):\n",
        "            continue\n",
        "        fields = m.fields\n",
        "        # check for important data types\n",
        "        mdata = {}\n",
        "        for field in fields:\n",
        "            # print(field) print varaibles\n",
        "            if field.name in allowed_fields:\n",
        "                if field.name == \"timestamp\":\n",
        "                    mdata[field.name] = \\\n",
        "                    UTC.localize(field.value).astimezone(CST)\n",
        "                else:\n",
        "                    mdata[field.name] = field.value\n",
        "        for rf in required_fields:\n",
        "            if rf not in mdata:\n",
        "                skip = True\n",
        "\n",
        "        if not skip:\n",
        "            data.append(mdata)\n",
        "    # write to csv\n",
        "    with open(output_file, \"w\", newline=\"\") as f:\n",
        "        writer = csv.writer(f)\n",
        "        writer.writerow(allowed_fields)\n",
        "        print(allowed_fields)\n",
        "        for entry in data:\n",
        "            line_file = []\n",
        "            for k in allowed_fields:\n",
        "                data_var = str(entry.get(k, \"\"))\n",
        "                # print(entry,\" \", k,\" \" ,data_var)\n",
        "                line_file.append(data_var)\n",
        "            print(line_file)\n",
        "            writer.writerow(line_file)\n",
        "    print(\"wrote %s\" % output_file)"
      ]
    },
    {
      "cell_type": "code",
      "execution_count": null,
      "metadata": {
        "id": "pKSHmVYC9oiz"
      },
      "outputs": [],
      "source": [
        "\"\"\"\n",
        "This code defines a function called \"handlefitfile\" which processes the \n",
        "most recent \".fit\" file found in a specified directory by converting it to \n",
        "a \".csv\" file format using the \"fitparse\" and \"csv\" libraries. It first gets \n",
        "the list of all files in the specified directory, filters out non-FIT files, \n",
        "and then gets the most recent FIT file by checking the last modified time of \n",
        "each file. It then converts this FIT file to a CSV file by calling \n",
        "the \"write_fit_file_to_csv\" function, and saves the output CSV file into a\n",
        "Pandas DataFrame. The function returns the path to the output CSV file and\n",
        "the corresponding Pandas DataFrame.\n",
        "\"\"\"\n",
        "\n",
        "def handlefitfile():\n",
        "  # Get the list of files in the \"Exports\" directory\n",
        "  path = folder_path\n",
        "  files = os.listdir(path)\n",
        "\n",
        "  # Filter out non-FIT files\n",
        "  fit_files = [file.strip().lower() for file in files if \\\n",
        "               file.strip().lower().endswith(\".fit\")]\n",
        "\n",
        "  # Check if there are any FIT files in the directory\n",
        "  if not fit_files:\n",
        "      print(\"No FIT files found in directory.\")\n",
        "      return\n",
        "\n",
        "  # Get the most recent FIT file in the directory\n",
        "  file = max(fit_files, key=lambda x:os.path.getmtime(os.path.join(path, x)))\n",
        "\n",
        "  # Get the path of the most recent FIT file\n",
        "  file_path = os.path.join(path, file)\n",
        "\n",
        "  # Process the file\n",
        "  new_filename = file_path[:-4] + \".csv\"\n",
        "\n",
        "  # Read data from the CSV file into a Pandas DataFrame\n",
        "   \n",
        "  fitfile = fitparse.FitFile(file_path, \n",
        "                             data_processor=\n",
        "                             fitparse.StandardUnitsDataProcessor())\n",
        "  print(f'Converting {file_path}')\n",
        "  write_fit_file_to_csv(fitfile, new_filename)\n",
        "  print(new_filename)\n",
        "\n",
        "  print(\"Finished conversion\")\n",
        "  \n",
        "  # Save to pandas.DF\n",
        "  df = pd.read_csv(new_filename)\n",
        "\n",
        "  return new_filename, df"
      ]
    },
    {
      "cell_type": "code",
      "execution_count": null,
      "metadata": {
        "id": "LaE71tqN-XOZ"
      },
      "outputs": [],
      "source": [
        "# RUN\n",
        "try:\n",
        "    processed_file, df = handlefitfile()\n",
        "except Exception as e:\n",
        "    print(f'An error occurred: {str(e)}') "
      ]
    },
    {
      "attachments": {},
      "cell_type": "markdown",
      "metadata": {
        "id": "f_A6MxrA_pv3"
      },
      "source": [
        "## PREPROCESING"
      ]
    },
    {
      "cell_type": "code",
      "execution_count": null,
      "metadata": {
        "colab": {
          "base_uri": "https://localhost:8080/",
          "height": 643
        },
        "id": "cL3unkUqFjUi",
        "outputId": "d9045e10-e205-4787-a6d9-ff0985388c0c"
      },
      "outputs": [],
      "source": [
        "import os\n",
        "\n",
        "# Convert timestamp to AEST timezone\n",
        "df['timestamp_AEST'] = pd.to_datetime(df['timestamp'], utc=True) \\\n",
        "                      .dt.tz_convert('Australia/Melbourne')\n",
        "df['date_AEST'] = df['timestamp_AEST'].dt.date\n",
        "\n",
        "# Filter out irrelevant columns\n",
        "df = df[['timestamp', 'timestamp_AEST', 'date_AEST', 'position_lat', \n",
        "         'position_long', 'distance', 'enhanced_altitude', 'altitude',\n",
        "         'ascent', 'grade', 'calories', 'enhanced_speed', 'heart_rate',\n",
        "         'temperature', 'cadence', 'power', 'left_right_balance',\n",
        "         'gps_accuracy']]\n",
        "\n",
        "# Rename column\n",
        "df = df.rename(columns={'altitudeS': 'altitude'})\n",
        "\n",
        "# Set hardcoded values for userID, age, gender, weight, FTP\n",
        "df['userID'] = user_details[\"id\"]\n",
        "df['workout_ID'] = workoutID\n",
        "df['age'] = age\n",
        "gender_str = \"\"\n",
        "if gender == 0:\n",
        "    gender_str = \"Male\"\n",
        "elif gender == 1:\n",
        "    gender_str = \"Female\"\n",
        "else:\n",
        "    gender_str = \"Prefer not to say\"\n",
        "df['gender'] = gender_str\n",
        "df['weight'] = user_details[\"weight\"]\n",
        "FTP = 302 # manually set\n",
        "df['FTP'] = FTP \n",
        "\n",
        "# Filter out rows with null distance and header row\n",
        "df = df[df['distance'].notnull() & (df['timestamp'] != 'timestamp')]\n",
        "\n",
        "# Sort by timestamp\n",
        "df.sort_values(by='timestamp', inplace=True)\n",
        "\n",
        "# Use df as the source table\n",
        "result_df = df.copy()  \n",
        "\n",
        "# Define the power zone rules as a percentage of FTP\n",
        "power_zones = [\n",
        "  {'zone': 'Zone 1', 'ftp_percent': 0.55, \n",
        "   'min_percent': 0, 'max_percent': 0.55},\n",
        "  {'zone': 'Zone 2', 'ftp_percent': 0.75,\n",
        "   'min_percent': 0.55, 'max_percent': 0.75},\n",
        "  {'zone': 'Zone 3', 'ftp_percent': 0.90, \n",
        "   'min_percent': 0.75, 'max_percent': 0.90},\n",
        "  {'zone': 'Zone 4', 'ftp_percent': 1.05, \n",
        "   'min_percent': 0.90, 'max_percent': 1.05},\n",
        "  {'zone': 'Zone 5', 'ftp_percent': 1.20,\n",
        "   'min_percent': 1.05, 'max_percent': 1.20},\n",
        "  {'zone': 'Zone 6', 'ftp_percent': 1.50, \n",
        "   'min_percent': 1.20, 'max_percent': 1.50},\n",
        "  {'zone': 'Zone 7', 'ftp_percent': '>1.50',\n",
        "   'min_percent': 1.50, 'max_percent': None},\n",
        "]\n",
        "\n",
        "# Define a function to apply the rules to each value in the dataframe\n",
        "def map_power_zone(value, ftp):\n",
        "    for zone in power_zones:\n",
        "        if zone['ftp_percent'] == '>1.50':\n",
        "            if value >= ftp * 1.5:\n",
        "                return zone['zone']\n",
        "        else:\n",
        "            if value >= ftp * zone['min_percent'] and \\\n",
        "             (zone['max_percent'] is None or value < ftp * zone['max_percent']):\n",
        "                return zone['zone']\n",
        "    return None\n",
        "\n",
        "# Apply the function to each value in the 'power' column\n",
        "result_df['power_zone'] = \\\n",
        " result_df.apply(lambda row: map_power_zone(row['power'], row['FTP']), axis=1)\n",
        "\n",
        "\n",
        "# Process the file\n",
        "processed_file = processed_file[:-4] + \"_processed.csv\"\n",
        "\n",
        "# Save to CSV\n",
        "result_df.to_csv(processed_file, index=False)\n",
        "\n",
        "result_df.head(18)\n"
      ]
    },
    {
      "cell_type": "code",
      "execution_count": null,
      "metadata": {
        "colab": {
          "base_uri": "https://localhost:8080/"
        },
        "id": "Gl6JLLMUYQGr",
        "outputId": "a92afacf-14b5-420e-a5d5-c14d60af2d13"
      },
      "outputs": [
        {
          "data": {
            "text/plain": [
              "Index(['timestamp', 'timestamp_AEST', 'date_AEST', 'position_lat',\n",
              "       'position_long', 'distance', 'enhanced_altitude', 'altitude', 'ascent',\n",
              "       'grade', 'calories', 'enhanced_speed', 'heart_rate', 'temperature',\n",
              "       'cadence', 'power', 'left_right_balance', 'gps_accuracy', 'userID',\n",
              "       'workout_ID', 'age', 'gender', 'weight', 'FTP', 'power_zone'],\n",
              "      dtype='object')"
            ]
          },
          "execution_count": 91,
          "metadata": {},
          "output_type": "execute_result"
        }
      ],
      "source": [
        "result_df.columns"
      ]
    },
    {
      "cell_type": "code",
      "execution_count": null,
      "metadata": {
        "colab": {
          "base_uri": "https://localhost:8080/"
        },
        "id": "1dzE1cEVgucm",
        "outputId": "fcdf3a3e-936f-43b6-8e3b-19c6e14acf36"
      },
      "outputs": [
        {
          "name": "stdout",
          "output_type": "stream",
          "text": [
            "<class 'pandas.core.frame.DataFrame'>\n",
            "Int64Index: 8233 entries, 2 to 8938\n",
            "Data columns (total 25 columns):\n",
            " #   Column              Non-Null Count  Dtype                              \n",
            "---  ------              --------------  -----                              \n",
            " 0   timestamp           8233 non-null   object                             \n",
            " 1   timestamp_AEST      8233 non-null   datetime64[ns, Australia/Melbourne]\n",
            " 2   date_AEST           8233 non-null   object                             \n",
            " 3   position_lat        8233 non-null   float64                            \n",
            " 4   position_long       8233 non-null   float64                            \n",
            " 5   distance            8233 non-null   float64                            \n",
            " 6   enhanced_altitude   8233 non-null   float64                            \n",
            " 7   altitude            8233 non-null   float64                            \n",
            " 8   ascent              8232 non-null   float64                            \n",
            " 9   grade               8232 non-null   float64                            \n",
            " 10  calories            8233 non-null   float64                            \n",
            " 11  enhanced_speed      8233 non-null   float64                            \n",
            " 12  heart_rate          8233 non-null   float64                            \n",
            " 13  temperature         8232 non-null   float64                            \n",
            " 14  cadence             8232 non-null   float64                            \n",
            " 15  power               8232 non-null   float64                            \n",
            " 16  left_right_balance  8118 non-null   object                             \n",
            " 17  gps_accuracy        8233 non-null   float64                            \n",
            " 18  userID              8233 non-null   int64                              \n",
            " 19  workout_ID          8233 non-null   int64                              \n",
            " 20  age                 8233 non-null   int64                              \n",
            " 21  gender              8233 non-null   object                             \n",
            " 22  weight              8233 non-null   object                             \n",
            " 23  FTP                 8233 non-null   int64                              \n",
            " 24  power_zone          8232 non-null   object                             \n",
            "dtypes: datetime64[ns, Australia/Melbourne](1), float64(14), int64(4), object(6)\n",
            "memory usage: 1.6+ MB\n"
          ]
        }
      ],
      "source": [
        "result_df.info()"
      ]
    },
    {
      "attachments": {},
      "cell_type": "markdown",
      "metadata": {
        "id": "PrPkQgAnLVl5"
      },
      "source": [
        "## PUSH TO DATA WAREHOUSE"
      ]
    },
    {
      "cell_type": "code",
      "execution_count": null,
      "metadata": {
        "colab": {
          "base_uri": "https://localhost:8080/",
          "height": 36
        },
        "id": "4O9dp5AhLT9n",
        "outputId": "d331b29b-0f96-441e-a6f0-1590c91b370b"
      },
      "outputs": [],
      "source": [
        "\"\"\"\n",
        "BigQuery or Similar sql create a table execution here\n",
        "\"\"\""
      ]
    },
    {
      "cell_type": "code",
      "execution_count": null,
      "metadata": {
        "id": "AE5YJMIm33va"
      },
      "outputs": [],
      "source": [
        "result_df.to_csv(processed_file, index=False)"
      ]
    },
    {
      "cell_type": "code",
      "execution_count": null,
      "metadata": {
        "colab": {
          "base_uri": "https://localhost:8080/",
          "height": 36
        },
        "id": "ZapHT7w-4GVh",
        "outputId": "e3f2b8e7-43b0-4803-96e4-b3fb465a35c4"
      },
      "outputs": [],
      "source": [
        "processed_file"
      ]
    },
    {
      "cell_type": "code",
      "execution_count": null,
      "metadata": {
        "colab": {
          "base_uri": "https://localhost:8080/",
          "height": 423
        },
        "id": "G0pWLLG-P0md",
        "outputId": "9848fcea-3657-4254-f996-9624baf9bbb0"
      },
      "outputs": [],
      "source": [
        "result_df"
      ]
    },
    {
      "cell_type": "code",
      "execution_count": null,
      "metadata": {
        "colab": {
          "base_uri": "https://localhost:8080/",
          "height": 209
        },
        "id": "IDpxEX90P1OV",
        "outputId": "e2409af1-be68-45e8-9aff-62e0dadf8696"
      },
      "outputs": [],
      "source": [
        "df_workout_"
      ]
    },
    {
      "cell_type": "code",
      "execution_count": null,
      "metadata": {
        "colab": {
          "base_uri": "https://localhost:8080/",
          "height": 81
        },
        "id": "zWqHxCpAP6Wc",
        "outputId": "6c72681a-718b-4dd3-a2b1-61edc485937c"
      },
      "outputs": [],
      "source": [
        "df_workout_sum"
      ]
    }
  ],
  "metadata": {
    "colab": {
      "provenance": []
    },
    "kernelspec": {
      "display_name": "Python 3",
      "name": "python3"
    },
    "language_info": {
      "name": "python"
    }
  },
  "nbformat": 4,
  "nbformat_minor": 0
}
