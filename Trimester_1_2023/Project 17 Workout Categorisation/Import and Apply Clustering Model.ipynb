{
 "cells": [
  {
   "cell_type": "code",
   "execution_count": 88,
   "id": "5ebc157e",
   "metadata": {},
   "outputs": [],
   "source": [
    "#Libraries\n",
    "#Libraries\n",
    "import numpy as np\n",
    "import pandas as pd\n",
    "from sklearn.cluster import KMeans\n",
    "from sklearn.preprocessing import StandardScaler\n",
    "from datetime import datetime\n",
    "import joblib"
   ]
  },
  {
   "cell_type": "code",
   "execution_count": 108,
   "id": "4d298b77",
   "metadata": {},
   "outputs": [
    {
     "name": "stdout",
     "output_type": "stream",
     "text": [
      "Fitfile cluster allocation: 0\n"
     ]
    }
   ],
   "source": [
    "#Import fit File\n",
    "\n",
    "fit_file = 'fit_file_test.csv'\n",
    "\n",
    "df = pd.read_csv(fit_file, index_col=False, parse_dates=['tiemstamp_AEST'])\n",
    "\n",
    "df = df[['tiemstamp_AEST', 'distance', 'ascent', 'enhanced_speed',\n",
    "              'heart_rate', 'cadence', 'power', 'userID']]\n",
    "\n",
    "df.sort_values(by=['userID', 'tiemstamp_AEST'], inplace = True)\n",
    "\n",
    "df = df.drop(columns=['userID'])\n",
    "df['SessionID'] = 1\n",
    "\n",
    "#Averages\n",
    "\n",
    "df_avg = df.groupby('SessionID').mean()\n",
    "\n",
    "#Maxes\n",
    "df_max = df.groupby('SessionID').max()\n",
    "\n",
    "#Session Length\n",
    "df_length = df.groupby('SessionID').max()-df.groupby('SessionID').min()\n",
    "\n",
    "#Lock required features\n",
    "df_avg = df_avg[['enhanced_speed','heart_rate', 'cadence', 'power']]\n",
    "df_max = df_max[['distance','ascent']]\n",
    "df_length = df_length[['tiemstamp_AEST']]\n",
    "\n",
    "\n",
    "#Convert time to session length in minutes\n",
    "for i in range(1, len(df_length['tiemstamp_AEST'])+1):\n",
    "    df_length['tiemstamp_AEST'][i] = (df_length['tiemstamp_AEST'][i].total_seconds())/60\n",
    "\n",
    "df_length = df_length.rename(columns={\"tiemstamp_AEST\": \"length\"})\n",
    "df_length = df_length.astype(float)\n",
    "\n",
    "#Combine feature types\n",
    "df_comb = pd.concat([df_avg, df_max, df_length], axis=1)\n",
    "df_comb = round(df_comb,2)\n",
    "\n",
    "clusterer = joblib.load('clustering_model.sav')\n",
    "scaler = joblib.load('clustering_scaler.sav')\n",
    "\n",
    "st_df = scaler.transform(df_comb)\n",
    "\n",
    "cluster_label = clusterer.predict(st_df)\n",
    "print(\"Fitfile cluster allocation:\", format(cluster_label[0]))\n"
   ]
  },
  {
   "cell_type": "code",
   "execution_count": null,
   "id": "5ed1bf11",
   "metadata": {},
   "outputs": [],
   "source": []
  }
 ],
 "metadata": {
  "kernelspec": {
   "display_name": "Python 3",
   "language": "python",
   "name": "python3"
  },
  "language_info": {
   "codemirror_mode": {
    "name": "ipython",
    "version": 3
   },
   "file_extension": ".py",
   "mimetype": "text/x-python",
   "name": "python",
   "nbconvert_exporter": "python",
   "pygments_lexer": "ipython3",
   "version": "3.8.8"
  }
 },
 "nbformat": 4,
 "nbformat_minor": 5
}
