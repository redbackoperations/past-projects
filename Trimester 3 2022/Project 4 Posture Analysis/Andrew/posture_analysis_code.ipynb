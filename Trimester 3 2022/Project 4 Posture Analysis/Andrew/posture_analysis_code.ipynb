{
  "cells": [
    {
      "cell_type": "markdown",
      "source": [
        "# Access Link\n",
        "\n",
        "https://colab.research.google.com/drive/1Et1kxQC3OpryUeQ09RE5oj5-Xh2U8dZm?usp=sharing "
      ],
      "metadata": {
        "id": "ryCCfG2ndH0m"
      }
    },
    {
      "cell_type": "markdown",
      "source": [
        "# Install Dependencies"
      ],
      "metadata": {
        "id": "K8oydzw1UtJT"
      }
    },
    {
      "cell_type": "code",
      "execution_count": 1,
      "metadata": {
        "colab": {
          "base_uri": "https://localhost:8080/"
        },
        "id": "bfsB1uBvKJvO",
        "outputId": "70fd0ea1-92d1-49bb-aeff-12ac68fa63b7"
      },
      "outputs": [
        {
          "output_type": "stream",
          "name": "stdout",
          "text": [
            "Looking in indexes: https://pypi.org/simple, https://us-python.pkg.dev/colab-wheels/public/simple/\n",
            "Requirement already satisfied: pytube in /usr/local/lib/python3.8/dist-packages (12.1.0)\n",
            "Requirement already satisfied: mediapipe in /usr/local/lib/python3.8/dist-packages (0.9.0.1)\n",
            "Requirement already satisfied: absl-py in /usr/local/lib/python3.8/dist-packages (from mediapipe) (1.3.0)\n",
            "Requirement already satisfied: attrs>=19.1.0 in /usr/local/lib/python3.8/dist-packages (from mediapipe) (22.1.0)\n",
            "Requirement already satisfied: protobuf<4,>=3.11 in /usr/local/lib/python3.8/dist-packages (from mediapipe) (3.19.6)\n",
            "Requirement already satisfied: flatbuffers>=2.0 in /usr/local/lib/python3.8/dist-packages (from mediapipe) (22.12.6)\n",
            "Requirement already satisfied: numpy in /usr/local/lib/python3.8/dist-packages (from mediapipe) (1.21.6)\n",
            "Requirement already satisfied: matplotlib in /usr/local/lib/python3.8/dist-packages (from mediapipe) (3.2.2)\n",
            "Requirement already satisfied: opencv-contrib-python in /usr/local/lib/python3.8/dist-packages (from mediapipe) (4.6.0.66)\n",
            "Requirement already satisfied: cycler>=0.10 in /usr/local/lib/python3.8/dist-packages (from matplotlib->mediapipe) (0.11.0)\n",
            "Requirement already satisfied: pyparsing!=2.0.4,!=2.1.2,!=2.1.6,>=2.0.1 in /usr/local/lib/python3.8/dist-packages (from matplotlib->mediapipe) (3.0.9)\n",
            "Requirement already satisfied: python-dateutil>=2.1 in /usr/local/lib/python3.8/dist-packages (from matplotlib->mediapipe) (2.8.2)\n",
            "Requirement already satisfied: kiwisolver>=1.0.1 in /usr/local/lib/python3.8/dist-packages (from matplotlib->mediapipe) (1.4.4)\n",
            "Requirement already satisfied: six>=1.5 in /usr/local/lib/python3.8/dist-packages (from python-dateutil>=2.1->matplotlib->mediapipe) (1.15.0)\n"
          ]
        }
      ],
      "source": [
        "pip install pytube mediapipe"
      ]
    },
    {
      "cell_type": "markdown",
      "source": [
        "# Import Libraries"
      ],
      "metadata": {
        "id": "UfH_twG6U3a-"
      }
    },
    {
      "cell_type": "code",
      "execution_count": 2,
      "metadata": {
        "id": "sBuzB2QxhAiK"
      },
      "outputs": [],
      "source": [
        "import cv2 \n",
        "import math\n",
        "import numpy as np\n",
        "import mediapipe as mp\n",
        "from pytube import YouTube\n",
        "from google.colab.patches import cv2_imshow\n",
        "\n",
        "# 2D Angle\n",
        "  # Angle between point A & C given B\n",
        "def get_angle(a, b, c):\n",
        "    ang = math.degrees(math.atan2(c[1]-b[1], c[0]-b[0]) - math.atan2(a[1]-b[1], a[0]-b[0]))\n",
        "    return ang + 360 if ang < 0 else ang"
      ]
    },
    {
      "cell_type": "markdown",
      "source": [
        "# Prepare MediaPipe & Pytube"
      ],
      "metadata": {
        "id": "G-WbIpAfU7pC"
      }
    },
    {
      "cell_type": "code",
      "execution_count": 6,
      "metadata": {
        "id": "zPDAxJLKpWTo"
      },
      "outputs": [],
      "source": [
        "# Pytube Setup\n",
        "\n",
        "# Example - Normal Position\n",
        "yt = YouTube(\"https://youtu.be/fNxwjJEEeVo\")\n",
        "\n",
        "# Example - Aero Position\n",
        "#yt = YouTube(\"https://youtu.be/9_HR4_diEJ4\")\n",
        "\n",
        "# Get best video quality\n",
        "video_link = yt.streams.filter(adaptive=True)[0]\n",
        "\n",
        "# Get Name\n",
        "video_name = yt.title\n",
        "\n",
        "# MediaPipe Setup \n",
        "mp_drawing_styles = mp.solutions.drawing_styles\n",
        "mp_drawing = mp.solutions.drawing_utils\n",
        "mp_pose = mp.solutions.pose\n",
        "\n",
        "# Get codes for landmarks\n",
        "landmark_list = mp_pose.PoseLandmark.__dict__['_member_names_']\n",
        "landmark_dictionary = dict(zip(landmark_list, range(len(landmark_list))))\n",
        "\n",
        "# Get Input Video\n",
        "input_video = cv2.VideoCapture(video_link.url)\n",
        "\n",
        "# Get Width, Height & FPS\n",
        "frame_width = int(input_video.get(cv2.CAP_PROP_FRAME_WIDTH))\n",
        "frame_height = int(input_video.get(cv2.CAP_PROP_FRAME_HEIGHT))\n",
        "fps = int(input_video.get(cv2.CAP_PROP_FPS))\n",
        "\n",
        "# Font type\n",
        "font = cv2.FONT_HERSHEY_SIMPLEX\n",
        "red = (50, 50, 255)\n",
        "green = (127, 255, 0)\n",
        "\n",
        "# Video Format\n",
        "fourcc = cv2.VideoWriter_fourcc(*'MP4V')\n",
        "\n",
        "# Define Output Video\n",
        "output_video = cv2.VideoWriter(video_name + \" \" + \"processed.mp4\",\n",
        "                               fourcc,\n",
        "                               fps, \n",
        "                               (frame_width, frame_height))"
      ]
    },
    {
      "cell_type": "markdown",
      "source": [
        "# Run Model & Video"
      ],
      "metadata": {
        "id": "Sf2g9d5Aa9na"
      }
    },
    {
      "cell_type": "code",
      "execution_count": 7,
      "metadata": {
        "id": "Lqg1ewV6o_B6"
      },
      "outputs": [],
      "source": [
        "# Define Model \n",
        "with mp_pose.Pose(min_detection_confidence=0.8, \n",
        "                  min_tracking_confidence=0.8, \n",
        "                  enable_segmentation=True, \n",
        "                  model_complexity=2) as pose:\n",
        "  # While true\n",
        "  while input_video.isOpened():\n",
        "    check, frame = input_video.read()\n",
        "\n",
        "    # If end of video then break loop\n",
        "    if check is False: break\n",
        "\n",
        "    # Recolor Feed\n",
        "    image = cv2.cvtColor(frame, cv2.COLOR_BGR2RGB)\n",
        "\n",
        "    # Make Detections\n",
        "    results = pose.process(image)\n",
        "\n",
        "    # Recolor image back to BGR for rendering\n",
        "    image = cv2.cvtColor(image, cv2.COLOR_RGB2BGR)\n",
        "\n",
        "    # Pose Detections\n",
        "    mp_drawing.draw_landmarks(image, \n",
        "                              results.pose_landmarks, \n",
        "                              mp_pose.POSE_CONNECTIONS, \n",
        "                              landmark_drawing_spec = mp_drawing_styles.get_default_pose_landmarks_style())\n",
        "\n",
        "    # If model detected pose\n",
        "    if results.pose_landmarks:\n",
        "\n",
        "      # Right Shoulder\n",
        "      rs = [results.pose_landmarks.landmark[landmark_dictionary['RIGHT_SHOULDER']].x,\n",
        "            results.pose_landmarks.landmark[landmark_dictionary['RIGHT_SHOULDER']].y,\n",
        "            results.pose_landmarks.landmark[landmark_dictionary['RIGHT_SHOULDER']].z]\n",
        "      # Right Hip\n",
        "      rh = [results.pose_landmarks.landmark[landmark_dictionary['RIGHT_HIP']].x,\n",
        "            results.pose_landmarks.landmark[landmark_dictionary['RIGHT_HIP']].y,\n",
        "            results.pose_landmarks.landmark[landmark_dictionary['RIGHT_HIP']].z]\n",
        "      # Right Wirst\n",
        "      rw = [results.pose_landmarks.landmark[landmark_dictionary['RIGHT_WRIST']].x,\n",
        "            results.pose_landmarks.landmark[landmark_dictionary['RIGHT_WRIST']].y,\n",
        "            results.pose_landmarks.landmark[landmark_dictionary['RIGHT_WRIST']].z]\n",
        "      # Left Shoulder\n",
        "      ls = [results.pose_landmarks.landmark[landmark_dictionary['LEFT_SHOULDER']].x,\n",
        "            results.pose_landmarks.landmark[landmark_dictionary['LEFT_SHOULDER']].y,\n",
        "            results.pose_landmarks.landmark[landmark_dictionary['LEFT_SHOULDER']].z]\n",
        "      # Left Hip\n",
        "      lh = [results.pose_landmarks.landmark[landmark_dictionary['LEFT_HIP']].x,\n",
        "            results.pose_landmarks.landmark[landmark_dictionary['LEFT_HIP']].y,\n",
        "            results.pose_landmarks.landmark[landmark_dictionary['LEFT_HIP']].z]\n",
        "      # Left Wirst\n",
        "      lw = [results.pose_landmarks.landmark[landmark_dictionary['LEFT_WRIST']].x,\n",
        "            results.pose_landmarks.landmark[landmark_dictionary['LEFT_WRIST']].y,\n",
        "            results.pose_landmarks.landmark[landmark_dictionary['LEFT_WRIST']].z]\n",
        "      \n",
        "      # Average Angle betwen left & right\n",
        "      #angle = np.mean([get_angle(rs, rh, rw), get_angle(ls, lh, lw)])\n",
        "      right_angle = get_angle(rs, rh, rw)\n",
        "      left_angle = get_angle(ls, lh, lw)\n",
        "      # If Angle greater than 30 degrees\n",
        "        # Normal Position\n",
        "      if (right_angle > 30) and (left_angle > 30):\n",
        "        cv2.putText(image, \"Normal\", (frame_width  - 150, 30), font, 0.9, green, 2)\n",
        "      else: \n",
        "        cv2.putText(image, \"Aero\", (frame_width  - 150, 30), font, 0.9, red, 2)\n",
        "    \n",
        "    # Write Processed Image to Output Video\n",
        "    output_video.write(image)\n",
        "\n",
        "# Release Everything\n",
        "input_video.release()\n",
        "output_video.release()\n",
        "cv2.destroyAllWindows()"
      ]
    }
  ],
  "metadata": {
    "colab": {
      "provenance": []
    },
    "kernelspec": {
      "display_name": "Python 3",
      "name": "python3"
    },
    "language_info": {
      "name": "python"
    }
  },
  "nbformat": 4,
  "nbformat_minor": 0
}