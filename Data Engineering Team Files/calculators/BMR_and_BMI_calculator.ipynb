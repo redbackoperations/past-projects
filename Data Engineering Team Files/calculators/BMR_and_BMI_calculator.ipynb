{
  "nbformat": 4,
  "nbformat_minor": 0,
  "metadata": {
    "colab": {
      "name": "BMR and BMI calculator",
      "provenance": []
    },
    "kernelspec": {
      "name": "python3",
      "display_name": "Python 3"
    },
    "language_info": {
      "name": "python"
    }
  },
  "cells": [
    {
      "cell_type": "code",
      "execution_count": null,
      "metadata": {
        "colab": {
          "base_uri": "https://localhost:8080/"
        },
        "id": "oolLJFKPb5-Y",
        "outputId": "69fb13d1-fbc5-4ddb-fcd4-4cdf762061f4"
      },
      "outputs": [
        {
          "output_type": "stream",
          "name": "stdout",
          "text": [
            "Mounted at /content/drive\n"
          ]
        }
      ],
      "source": [
        "from google.colab import drive\n",
        "drive.mount('/content/drive')"
      ]
    },
    {
      "cell_type": "code",
      "source": [
        "def takeInputs():\n",
        "    weight = int(input(\"Enter your weight in KG: \\n\"))\n",
        "    height = int(input(\"Enter your height in cm: \\n\"))\n",
        "    age = int(input(\"Enter your age in years: \\n\"))\n",
        "    isMale = str(input(\"Are you male? (y/n)\"))\n",
        "    return weight, height, age, isMale"
      ],
      "metadata": {
        "id": "z-pyvvaUeHGM"
      },
      "execution_count": 10,
      "outputs": []
    },
    {
      "cell_type": "code",
      "source": [
        "weight, height, age, isMale = takeInputs()\n",
        "\n",
        "if isMale == \"y\":\n",
        "    isMale = True\n",
        "elif isMale == \"n\":\n",
        "    isMale = False\n",
        "else:\n",
        "    print(\"Error\")\n",
        "    quit()\n",
        "    \n",
        "if isMale:\n",
        "    bmr = 66.5 + (13.75 * weight) + (5 * height) - (6.755 * age)\n",
        "else:\n",
        "    bmr = 655.1 + (9.6 * weight) + (1.8 * height) - (4.7 * age)\n",
        "bmr = round(bmr)\n",
        "print('your body BMR is: ', bmr)"
      ],
      "metadata": {
        "colab": {
          "base_uri": "https://localhost:8080/"
        },
        "id": "LqpFg99BckT0",
        "outputId": "0b0be103-2595-4a8e-ca2e-d313a201adc0"
      },
      "execution_count": null,
      "outputs": [
        {
          "output_type": "stream",
          "name": "stdout",
          "text": [
            "Enter your weight in KG: \n",
            "65\n",
            "Enter your height in cm: \n",
            "175\n",
            "Enter your age in years: \n",
            "23\n",
            "Are you male? (y/n)y\n",
            "your body BMR is:  1680\n"
          ]
        }
      ]
    },
    {
      "cell_type": "code",
      "source": [
        "height = float(input(\"Enter your height in cm: \"))\n",
        "weight = float(input(\"Enter your weight in kg: \"))\n",
        "\n",
        "BMI = weight / (height/100)**2\n",
        "\n",
        "print(f\"You BMI is {BMI}\")\n",
        "\n",
        "if BMI <= 18.4:\n",
        "    print(\"You are underweight.\")\n",
        "elif BMI <= 24.9:\n",
        "    print(\"You are healthy.\")\n",
        "elif BMI <= 29.9:\n",
        "    print(\"You are over weight.\")\n",
        "elif BMI <= 34.9:\n",
        "    print(\"You are severely over weight.\")\n",
        "elif BMI <= 39.9:\n",
        "    print(\"You are obese.\")\n",
        "else:\n",
        "    print(\"You are severely obese.\")"
      ],
      "metadata": {
        "colab": {
          "base_uri": "https://localhost:8080/"
        },
        "id": "0WxG4QQvfYDT",
        "outputId": "dcec11a2-efa2-4584-9d86-921eff4c34a0"
      },
      "execution_count": null,
      "outputs": [
        {
          "output_type": "stream",
          "name": "stdout",
          "text": [
            "Enter your height in cm: 178\n",
            "Enter your weight in kg: 70\n",
            "You BMI is 22.093170054286073\n",
            "You are healthy.\n"
          ]
        }
      ]
    }
  ]
}